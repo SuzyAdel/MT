{
  "nbformat": 4,
  "nbformat_minor": 0,
  "metadata": {
    "colab": {
      "provenance": [],
      "gpuType": "T4"
    },
    "kernelspec": {
      "name": "python3",
      "display_name": "Python 3"
    },
    "language_info": {
      "name": "python"
    },
    "accelerator": "GPU"
  },
  "cells": [
    {
      "cell_type": "markdown",
      "source": [],
      "metadata": {
        "id": "1P1nPMXsxR5S"
      }
    },
    {
      "cell_type": "markdown",
      "source": [
        "✅ Workflow Plan:\n",
        "* Step 1: Load and explore the dataset.\n",
        "* Step 2: Preprocessing + add <start> and <end> tokens.\n",
        "* Step 3: Tokenization (with <OOV> handling).\n",
        "* Step 4: Padding and sequence preparation.\n",
        "* Step 5: Model 1 — Seq2Seq encoder-decoder model setup.\n",
        "* Step 6: Training + loss plots.\n",
        "* Step 7: Model 2 — Transformer-style seq2seq setup.\n",
        "* Step 8: Training + loss plots.\n",
        "* Step 9: Inference testing on unseen data."
      ],
      "metadata": {
        "id": "Ji1CMvqb7QOR"
      }
    },
    {
      "cell_type": "markdown",
      "source": [
        "## STEP 1: Load & Explore Dataset\n",
        "\n",
        "---\n",
        "\n"
      ],
      "metadata": {
        "id": "1CtHYLL6zrgl"
      }
    },
    {
      "cell_type": "code",
      "source": [
        "import numpy as np\n",
        "import pandas as pd\n",
        "import tensorflow as tf\n",
        "import re\n",
        "import matplotlib.pyplot as plt"
      ],
      "metadata": {
        "id": "haIPyMx3lX8p"
      },
      "execution_count": 21,
      "outputs": []
    },
    {
      "cell_type": "code",
      "execution_count": 22,
      "metadata": {
        "colab": {
          "base_uri": "https://localhost:8080/"
        },
        "id": "Mn2e1kmfxEtb",
        "outputId": "1681a88c-cf83-44fd-b96d-74ad64bad744"
      },
      "outputs": [
        {
          "output_type": "stream",
          "name": "stdout",
          "text": [
            "Drive already mounted at /content/drive; to attempt to forcibly remount, call drive.mount(\"/content/drive\", force_remount=True).\n"
          ]
        }
      ],
      "source": [
        "from google.colab import drive\n",
        "drive.mount('/content/drive')"
      ]
    },
    {
      "cell_type": "code",
      "source": [
        "import matplotlib.pyplot as plt\n",
        "\n",
        "# Path to your dataset (adjust if needed)\n",
        "file_path = '/content/drive/MyDrive/MT_Data/english-arabic-dataset.txt'\n",
        "\n",
        "# Load first 10,000 lines\n",
        "with open(file_path, 'r', encoding='utf-8') as f:\n",
        "    lines = f.readlines()[:10000]\n",
        "\n",
        "print(f\"Total samples loaded: {len(lines)}\")"
      ],
      "metadata": {
        "colab": {
          "base_uri": "https://localhost:8080/"
        },
        "id": "587q5YPUz9jv",
        "outputId": "9047c0a6-c664-4e71-cf76-77dd40aa4494"
      },
      "execution_count": 23,
      "outputs": [
        {
          "output_type": "stream",
          "name": "stdout",
          "text": [
            "Total samples loaded: 10000\n"
          ]
        }
      ]
    },
    {
      "cell_type": "code",
      "source": [
        "# Separate English and Arabic sentences\n",
        "eng_sentences = [str(line[0]) for line in lines]\n",
        "arb_sentences = [str(line[1]) for line in lines]\n",
        "\n",
        "for line in lines:\n",
        "    try:\n",
        "        eng, arb = line.strip().split('\\t')\n",
        "        eng_sentences.append(eng)\n",
        "        arb_sentences.append(arb)\n",
        "    except ValueError:\n",
        "        continue\n",
        "# Print 5 samples\n",
        "for i in range(5):\n",
        "    print(f\"ENGLISH: {eng_sentences[i]}\")\n",
        "    print(f\"ARABIC : {arb_sentences[i]}\")\n",
        "    print('---')"
      ],
      "metadata": {
        "colab": {
          "base_uri": "https://localhost:8080/"
        },
        "id": "xKADJmQx0EJT",
        "outputId": "fb5bb17e-7558-421b-9b2c-5e5f9b851bfd"
      },
      "execution_count": 24,
      "outputs": [
        {
          "output_type": "stream",
          "name": "stdout",
          "text": [
            "ENGLISH: H\n",
            "ARABIC : i\n",
            "---\n",
            "ENGLISH: R\n",
            "ARABIC : u\n",
            "---\n",
            "ENGLISH: H\n",
            "ARABIC : e\n",
            "---\n",
            "ENGLISH: J\n",
            "ARABIC : u\n",
            "---\n",
            "ENGLISH: S\n",
            "ARABIC : t\n",
            "---\n"
          ]
        }
      ]
    },
    {
      "cell_type": "code",
      "source": [
        "# Sentence length analysis\n",
        "eng_lengths = [len(sentence.split()) for sentence in eng_sentences]\n",
        "arb_lengths = [len(sentence.split()) for sentence in arb_sentences]"
      ],
      "metadata": {
        "id": "zd9rRq6C0LBr"
      },
      "execution_count": 25,
      "outputs": []
    },
    {
      "cell_type": "code",
      "source": [
        "# Plot distributions\n",
        "plt.figure(figsize=(12,6))\n",
        "plt.hist(eng_lengths, bins=30, alpha=0.6, label='English sentence lengths')\n",
        "plt.hist(arb_lengths, bins=30, alpha=0.6, label='Arabic sentence lengths')\n",
        "plt.title(\"Sentence Length Distribution\")\n",
        "plt.xlabel(\"Sentence Length (in words)\")\n",
        "plt.ylabel(\"Frequency\")\n",
        "plt.legend()\n",
        "plt.show()"
      ],
      "metadata": {
        "colab": {
          "base_uri": "https://localhost:8080/",
          "height": 564
        },
        "id": "2Qy5CyP30QYh",
        "outputId": "69d36091-7ed2-433b-f07a-3eeb7734ab06"
      },
      "execution_count": 26,
      "outputs": [
        {
          "output_type": "display_data",
          "data": {
            "text/plain": [
              "<Figure size 1200x600 with 1 Axes>"
            ],
            "image/png": "[encoded data removed]"
          },
          "metadata": {}
        }
      ]
    },
    {
      "cell_type": "code",
      "source": [
        "# Check max lengths\n",
        "print(f\"Max English sentence length: {max(eng_lengths)}\")\n",
        "print(f\"Max Arabic sentence length: {max(arb_lengths)}\")"
      ],
      "metadata": {
        "colab": {
          "base_uri": "https://localhost:8080/"
        },
        "id": "2--7HPO_0edf",
        "outputId": "78bf4da7-4695-4f07-b088-3f179682feab"
      },
      "execution_count": 27,
      "outputs": [
        {
          "output_type": "stream",
          "name": "stdout",
          "text": [
            "Max English sentence length: 11\n",
            "Max Arabic sentence length: 14\n"
          ]
        }
      ]
    },
    {
      "cell_type": "markdown",
      "source": [
        "## STEP 2: Preprocessing + Adding <start>, <end> Tokens\n",
        "\n",
        "---\n",
        "\n",
        "\n",
        "*   Lowercase\n",
        "*   Strip whitespace\n",
        "*   Remove punctuation\n",
        "*   Remove digits if any\n",
        "*   Remove double spaces\n",
        "*   Start and end tokens added only on Arabic sentences.\n"
      ],
      "metadata": {
        "id": "cY9gcJ7c2tlJ"
      }
    },
    {
      "cell_type": "code",
      "source": [
        "# Function to clean and add special tokens\n",
        "import re\n",
        "\n",
        "def clean_sentence(sentence):\n",
        "    # Lowercase\n",
        "    sentence = sentence.lower().strip()\n",
        "    # Remove punctuation and digits\n",
        "    sentence = re.sub(r\"[^a-zA-Zء-ي\\s]\", \"\", sentence)  # keeps Arabic & English letters and spaces only\n",
        "    # Remove extra spaces\n",
        "    sentence = re.sub(r'\\s+', ' ', sentence).strip()\n",
        "    return sentence\n",
        "\n",
        "def preprocess_arabic(sentence):\n",
        "    sentence = clean_sentence(sentence)\n",
        "    sentence = f\"<start> {sentence} <end>\"\n",
        "    return sentence\n",
        "\n",
        "def preprocess_english(sentence):\n",
        "    sentence = clean_sentence(sentence)\n",
        "    return sentence\n",
        "\n",
        "# Apply cleaning\n",
        "eng_sentences_cleaned = [preprocess_english(sent) for sent in eng_sentences]\n",
        "arb_sentences_cleaned = [preprocess_arabic(sent) for sent in arb_sentences]\n",
        "\n",
        "# Sanity check\n",
        "for i in range(5):\n",
        "    print(f\"ENGLISH: {eng_sentences_cleaned[i]}\")\n",
        "    print(f\"ARABIC : {arb_sentences_cleaned[i]}\")\n",
        "    print(\"---\")"
      ],
      "metadata": {
        "colab": {
          "base_uri": "https://localhost:8080/"
        },
        "id": "B0VDOmt30gc1",
        "outputId": "8405c43a-2806-4e22-dcd0-77598f610694"
      },
      "execution_count": 28,
      "outputs": [
        {
          "output_type": "stream",
          "name": "stdout",
          "text": [
            "ENGLISH: h\n",
            "ARABIC : <start> i <end>\n",
            "---\n",
            "ENGLISH: r\n",
            "ARABIC : <start> u <end>\n",
            "---\n",
            "ENGLISH: h\n",
            "ARABIC : <start> e <end>\n",
            "---\n",
            "ENGLISH: j\n",
            "ARABIC : <start> u <end>\n",
            "---\n",
            "ENGLISH: s\n",
            "ARABIC : <start> t <end>\n",
            "---\n"
          ]
        }
      ]
    },
    {
      "cell_type": "markdown",
      "source": [
        "## STEP 3: Tokenization with OOV handling and padding\n",
        "\n",
        "---\n"
      ],
      "metadata": {
        "id": "5WbzS2r_5RrH"
      }
    },
    {
      "cell_type": "code",
      "source": [
        "from tensorflow.keras.preprocessing.text import Tokenizer\n",
        "from tensorflow.keras.preprocessing.sequence import pad_sequences\n",
        "\n",
        "# English tokenizer\n",
        "eng_tokenizer = tf.keras.preprocessing.text.Tokenizer(filters='', oov_token='<OOV>')\n",
        "eng_tokenizer.fit_on_texts(eng_sentences_cleaned)\n",
        "eng_tensor = eng_tokenizer.texts_to_sequences(eng_sentences_cleaned)\n",
        "#eng_tensor = tf.keras.preprocessing.sequence.pad_sequences(eng_tensor, padding='post')\n",
        "eng_tensor = tf.keras.preprocessing.sequence.pad_sequences(eng_tensor, padding='post')\n",
        "\n",
        "# Arabic tokenizer\n",
        "arb_tokenizer = tf.keras.preprocessing.text.Tokenizer(filters='', oov_token='<OOV>')\n",
        "arb_tokenizer.fit_on_texts(arb_sentences_cleaned)\n",
        "arb_tensor = arb_tokenizer.texts_to_sequences(arb_sentences_cleaned)\n",
        "#arb_tensor = tf.keras.preprocessing.sequence.pad_sequences(arb_tensor, padding='post')\n",
        "\n",
        "# Pad the sequences to have a uniform shape before finding max length\n",
        "arb_tensor = tf.keras.preprocessing.sequence.pad_sequences(arb_tensor, padding='post') # This line is modified\n",
        "\n",
        "# Find max lengths\n",
        "english_vocab_size = len(eng_tokenizer.word_index) + 1\n",
        "arabic_vocab_size = len(arb_tokenizer.word_index) + 1\n",
        "max_eng_len = eng_tensor.shape[1]\n",
        "max_ar_len = arb_tensor.shape[1]\n",
        "\n",
        "print(f\"English vocab size: {english_vocab_size}\")\n",
        "print(f\"Arabic vocab size: {arabic_vocab_size}\")"
      ],
      "metadata": {
        "colab": {
          "base_uri": "https://localhost:8080/"
        },
        "id": "ZMwhjc9L47pw",
        "outputId": "8e737e5f-710d-4232-914f-1b88a79c1b42"
      },
      "execution_count": 29,
      "outputs": [
        {
          "output_type": "stream",
          "name": "stdout",
          "text": [
            "English vocab size: 3601\n",
            "Arabic vocab size: 8795\n"
          ]
        }
      ]
    },
    {
      "cell_type": "markdown",
      "source": [
        "note : max length was 14 + 2 = 16"
      ],
      "metadata": {
        "id": "W7qErufO6_cV"
      }
    },
    {
      "cell_type": "code",
      "source": [
        "# Pad sequences\n",
        "#eng_tensor = pad_sequences(eng_tensor, maxlen=max_eng_len, padding='post')\n",
        "#arb_tensor = pad_sequences(arb_tensor, maxlen=max_ar_len, padding='post')\n",
        "\n",
        "# Sanity check: print example\n",
        "for i in range(3):\n",
        "    print(f\"English sequence: {eng_tensor[i]}\")\n",
        "    print(f\"Arabic sequence: {arb_tensor[i]}\")\n",
        "    print(\"---\")\n",
        "\n",
        "print(\"Tokenization & padding step done bestie!\")"
      ],
      "metadata": {
        "colab": {
          "base_uri": "https://localhost:8080/"
        },
        "id": "WPXtC_gE7FkS",
        "outputId": "67fa7c98-f9ca-4461-e6d3-37ed7010ef86"
      },
      "execution_count": 30,
      "outputs": [
        {
          "output_type": "stream",
          "name": "stdout",
          "text": [
            "English sequence: [10  0  0  0  0  0  0  0  0  0  0]\n",
            "Arabic sequence: [ 2 25  3  0  0  0  0  0  0  0  0  0  0  0  0  0]\n",
            "---\n",
            "English sequence: [361   0   0   0   0   0   0   0   0   0   0]\n",
            "Arabic sequence: [ 2 58  3  0  0  0  0  0  0  0  0  0  0  0  0  0]\n",
            "---\n",
            "English sequence: [10  0  0  0  0  0  0  0  0  0  0]\n",
            "Arabic sequence: [2 6 3 0 0 0 0 0 0 0 0 0 0 0 0 0]\n",
            "---\n",
            "Tokenization & padding step done bestie!\n"
          ]
        }
      ]
    },
    {
      "cell_type": "markdown",
      "source": [
        "## STEP 4 : Prepare training and validation sets\n",
        "\n",
        "---\n",
        "\n",
        "\n",
        "### Data Split -  MADE 75%"
      ],
      "metadata": {
        "id": "DNMKWJOXEDl-"
      }
    },
    {
      "cell_type": "code",
      "source": [
        "from sklearn.model_selection import train_test_split\n",
        "\n",
        "split_ratio = 0.75\n",
        "split_index = int(len(eng_tensor) * split_ratio)\n",
        "\n",
        "english_train, english_val = eng_tensor[:split_index], eng_tensor[split_index:]\n",
        "arabic_train, arabic_val = arb_tensor[:split_index], arb_tensor[split_index:]\n",
        "\n",
        "print(f\"English train shape: {english_train.shape}\")\n",
        "print(f\"English val shape: {english_val.shape}\")\n",
        "print(f\"Arabic train shape: {arabic_train.shape}\")\n",
        "print(f\"Arabic val shape: {arabic_val.shape}\")\n"
      ],
      "metadata": {
        "colab": {
          "base_uri": "https://localhost:8080/"
        },
        "id": "FdrlcCgD7gqR",
        "outputId": "d1ccc98c-1f08-4a5c-8813-3429a427e20d"
      },
      "execution_count": 31,
      "outputs": [
        {
          "output_type": "stream",
          "name": "stdout",
          "text": [
            "English train shape: (15000, 11)\n",
            "English val shape: (5000, 11)\n",
            "Arabic train shape: (15000, 16)\n",
            "Arabic val shape: (5000, 16)\n"
          ]
        }
      ]
    },
    {
      "cell_type": "markdown",
      "source": [
        "## Step 5: LSTM Seq2Seq Model\n",
        "\n",
        "\n",
        "---\n",
        "\n"
      ],
      "metadata": {
        "id": "CjNStdp-nu5T"
      }
    },
    {
      "cell_type": "markdown",
      "source": [
        "### Seq2Seq with RNN-based encoder-decoder\n",
        "\n",
        "* Static LR = 0.0005\n",
        "\n",
        "* Add ReduceLROnPlateau with factor=0.5, patience=3\n",
        "\n",
        "* Add EarlyStopping with patience=5\n",
        "\n",
        "* Train for max 50 epochs -- early stop/ just an upper limit  \n",
        "\n",
        "* Batch size 64\n",
        "\n",
        "\n",
        "2ND APPROACH\n",
        "   \n",
        "*   Add Dropout layers (with rates between 0.3–0.5)\n",
        "\n",
        "* Add L2 weight regularization\n",
        "\n",
        "* Use LearningRateScheduler to fine-tune\n",
        "\n",
        "* Reduce batch size from 64 to something like 32\n",
        "\n",
        "3RD AOOROACH\n",
        "\n",
        "* Recurrent dropout & L2 regularization\n",
        "* Reduced LSTM units\n",
        "* Gradient clipping in the optimizer\n",
        "* Learning rate scheduler callback\n",
        "\n",
        "\n",
        "4RTH APROACH\n",
        "* Try reducing LSTM AGAIN\n",
        "\n",
        "* Stronger L2 regularization\n",
        "\n",
        "* Dropout after embeddings\n",
        "\n",
        "* Gaussian noise for extra regularization\n",
        "\n",
        "* Early stopping with more patience"
      ],
      "metadata": {
        "id": "lJesNtyiGUOW"
      }
    },
    {
      "cell_type": "code",
      "source": [
        "embedding_dim = 64\n",
        "lstm_units = 128"
      ],
      "metadata": {
        "id": "UMEJAIhcoPot"
      },
      "execution_count": 32,
      "outputs": []
    },
    {
      "cell_type": "code",
      "source": [
        "import tensorflow as tf\n",
        "from tensorflow.keras import regularizers\n",
        "from tensorflow.keras.layers import Input, LSTM, Dense, Embedding, Dropout, GaussianNoise, LayerNormalization\n",
        "from tensorflow.keras.models import Model\n",
        "from tensorflow.keras.callbacks import EarlyStopping, LearningRateScheduler, ReduceLROnPlateau"
      ],
      "metadata": {
        "id": "fwVEOjAWGSEI"
      },
      "execution_count": 33,
      "outputs": []
    },
    {
      "cell_type": "code",
      "source": [
        "def scheduler(epoch, lr):\n",
        "  if epoch < 8:\n",
        "    return lr\n",
        "  else:\n",
        "    return lr * tf.math.exp(-0.1).numpy() # Convert Tensor to float using .numpy()\n",
        "lr_scheduler = LearningRateScheduler(scheduler)\n",
        "\n",
        "# Custom loss function that ignores padding (zeros)\n",
        "def masked_sparse_categorical_crossentropy(y_true, y_pred):\n",
        "    mask = tf.cast(tf.not_equal(y_true, 0), dtype=tf.float32)\n",
        "    loss = tf.keras.losses.sparse_categorical_crossentropy(y_true, y_pred)\n",
        "    loss *= mask\n",
        "    return tf.reduce_sum(loss) / tf.reduce_sum(mask)"
      ],
      "metadata": {
        "id": "o5F8akDLeKwC"
      },
      "execution_count": 34,
      "outputs": []
    },
    {
      "cell_type": "code",
      "source": [
        "from tensorflow.keras.layers import Masking\n",
        "\n",
        "# Encoder\n",
        "encoder_inputs = tf.keras.Input(shape=(None,))\n",
        "encoder_embed = Embedding(english_vocab_size, embedding_dim)(encoder_inputs)\n",
        "encoder_embed = Dropout(0.3)(encoder_embed)  # Add dropout after embeddings\n",
        "encoder_lstm = LSTM(lstm_units, return_state=True, recurrent_dropout=0.3, kernel_regularizer=regularizers.l2(1e-4))\n",
        "encoder_outputs, state_h, state_c = encoder_lstm(encoder_embed)\n",
        "encoder_states = [state_h, state_c]\n",
        "\n",
        "# Decoder\n",
        "decoder_inputs = tf.keras.Input(shape=(None,))\n",
        "decoder_embed = Embedding(arabic_vocab_size, embedding_dim)(decoder_inputs)\n",
        "decoder_embed = Dropout(0.3)(decoder_embed)  # Dropout on decoder embeddings\n",
        "decoder_lstm = LSTM(lstm_units, return_sequences=True, return_state=True, recurrent_dropout=0.3, kernel_regularizer=regularizers.l2(1e-4))\n",
        "decoder_outputs, _, _ = decoder_lstm(decoder_embed, initial_state=encoder_states)\n",
        "decoder_dense = Dense(arabic_vocab_size, activation='softmax', kernel_regularizer=regularizers.l2(1e-4))\n",
        "decoder_outputs = decoder_dense(decoder_outputs)\n",
        "\n",
        "model = Model([encoder_inputs, decoder_inputs], decoder_outputs)"
      ],
      "metadata": {
        "id": "HrEuEN1ZNcPD"
      },
      "execution_count": 35,
      "outputs": []
    },
    {
      "cell_type": "code",
      "source": [
        "optimizer = tf.keras.optimizers.AdamW(learning_rate=0.0005)\n",
        "model.compile(optimizer=optimizer, loss='sparse_categorical_crossentropy', metrics=['accuracy'])\n",
        "\n",
        "early_stop = EarlyStopping(monitor='val_loss', patience=2, restore_best_weights=True)\n",
        "reduce_lr = ReduceLROnPlateau(monitor='val_loss', factor=0.6, patience=4, min_lr=1e-6)"
      ],
      "metadata": {
        "id": "MyOI-_Osf-33"
      },
      "execution_count": 36,
      "outputs": []
    },
    {
      "cell_type": "code",
      "source": [
        "# Prepare data for decoder\n",
        "train_arb_in = arabic_train[:, :-1]\n",
        "train_ar_out = arabic_train[:, 1:]\n",
        "val_ar_in = arabic_val[:, :-1]\n",
        "val_ar_out = arabic_val[:, 1:]"
      ],
      "metadata": {
        "id": "4ELi8bRdICzi"
      },
      "execution_count": 37,
      "outputs": []
    },
    {
      "cell_type": "code",
      "source": [
        "print(f\"English train shape: {english_train.shape}\")\n",
        "print(f\"English val shape: {english_val.shape}\")\n",
        "print(f\"Arabic train input shape: {train_arb_in.shape}\")\n",
        "print(f\"Arabic train output shape: {train_ar_out.shape}\")"
      ],
      "metadata": {
        "colab": {
          "base_uri": "https://localhost:8080/"
        },
        "id": "WND_f-rviPgT",
        "outputId": "036fb4fe-ac77-45f2-8aae-21773e2c1d44"
      },
      "execution_count": 38,
      "outputs": [
        {
          "output_type": "stream",
          "name": "stdout",
          "text": [
            "English train shape: (15000, 11)\n",
            "English val shape: (5000, 11)\n",
            "Arabic train input shape: (15000, 15)\n",
            "Arabic train output shape: (15000, 15)\n"
          ]
        }
      ]
    },
    {
      "cell_type": "code",
      "source": [
        "def predict_translation(input_sentence):\n",
        "    input_seq = eng_tokenizer.texts_to_sequences([input_sentence])\n",
        "    input_seq = pad_sequences(input_seq, maxlen=max_eng_len, padding='post')\n",
        "\n",
        "    # Encode input\n",
        "    states_value = encoder_model.predict(input_seq)  # Extract states from trained encoder\n",
        "\n",
        "    # Decoder initial input\n",
        "    target_seq = np.zeros((1, 1))\n",
        "    target_seq[0, 0] = arb_tokenizer.word_index['<start>']\n",
        "\n",
        "    stop_condition = False\n",
        "    decoded_sentence = ''\n",
        "\n",
        "    while not stop_condition:\n",
        "        output_tokens, h, c = decoder_model.predict([target_seq] + states_value)\n",
        "\n",
        "        sampled_token_index = np.argmax(output_tokens[0, -1, :])\n",
        "        sampled_word = arb_tokenizer.index_word.get(sampled_token_index, '')\n",
        "\n",
        "        if sampled_word == '<end>' or len(decoded_sentence.split()) > max_ar_len:\n",
        "            stop_condition = True\n",
        "        else:\n",
        "            decoded_sentence += ' ' + sampled_word\n",
        "\n",
        "        target_seq = np.zeros((1, 1))\n",
        "        target_seq[0, 0] = sampled_token_index\n",
        "        states_value = [h, c]\n",
        "\n",
        "    return decoded_sentence"
      ],
      "metadata": {
        "id": "K0krEMg-15dO"
      },
      "execution_count": 39,
      "outputs": []
    },
    {
      "cell_type": "markdown",
      "source": [
        "## STEP 6: Train LSTM Model\n",
        "\n",
        "---\n",
        "\n"
      ],
      "metadata": {
        "id": "av3j70w0qV1y"
      }
    },
    {
      "cell_type": "code",
      "source": [
        "history = model.fit([english_train, train_arb_in], train_ar_out,\n",
        "                    validation_data=([english_val, val_ar_in], val_ar_out),\n",
        "                    batch_size=32, epochs=5, callbacks=[early_stop, reduce_lr])\n"
      ],
      "metadata": {
        "colab": {
          "base_uri": "https://localhost:8080/"
        },
        "id": "S_t8OMe9IhsA",
        "outputId": "38702d1f-3fd5-4eb0-819c-1e1db6f774ff"
      },
      "execution_count": 40,
      "outputs": [
        {
          "output_type": "stream",
          "name": "stdout",
          "text": [
            "Epoch 1/5\n",
            "\u001b[1m469/469\u001b[0m \u001b[32m━━━━━━━━━━━━━━━━━━━━\u001b[0m\u001b[37m\u001b[0m \u001b[1m50s\u001b[0m 95ms/step - accuracy: 0.8183 - loss: 3.3220 - val_accuracy: 0.6730 - val_loss: 3.0348 - learning_rate: 5.0000e-04\n",
            "Epoch 2/5\n",
            "\u001b[1m469/469\u001b[0m \u001b[32m━━━━━━━━━━━━━━━━━━━━\u001b[0m\u001b[37m\u001b[0m \u001b[1m42s\u001b[0m 90ms/step - accuracy: 0.8975 - loss: 0.7938 - val_accuracy: 0.6764 - val_loss: 2.8052 - learning_rate: 5.0000e-04\n",
            "Epoch 3/5\n",
            "\u001b[1m469/469\u001b[0m \u001b[32m━━━━━━━━━━━━━━━━━━━━\u001b[0m\u001b[37m\u001b[0m \u001b[1m44s\u001b[0m 93ms/step - accuracy: 0.9085 - loss: 0.6560 - val_accuracy: 0.6786 - val_loss: 2.7028 - learning_rate: 5.0000e-04\n",
            "Epoch 4/5\n",
            "\u001b[1m469/469\u001b[0m \u001b[32m━━━━━━━━━━━━━━━━━━━━\u001b[0m\u001b[37m\u001b[0m \u001b[1m82s\u001b[0m 93ms/step - accuracy: 0.9089 - loss: 0.6119 - val_accuracy: 0.6801 - val_loss: 2.6753 - learning_rate: 5.0000e-04\n",
            "Epoch 5/5\n",
            "\u001b[1m469/469\u001b[0m \u001b[32m━━━━━━━━━━━━━━━━━━━━\u001b[0m\u001b[37m\u001b[0m \u001b[1m82s\u001b[0m 93ms/step - accuracy: 0.9119 - loss: 0.5911 - val_accuracy: 0.6824 - val_loss: 2.6688 - learning_rate: 5.0000e-04\n"
          ]
        }
      ]
    },
    {
      "cell_type": "code",
      "source": [
        "import matplotlib.pyplot as plt\n",
        "\n",
        "plt.plot(history.history['loss'], label='Train Loss')\n",
        "plt.plot(history.history['val_loss'], label='Validation Loss')\n",
        "plt.xlabel('Epochs')\n",
        "plt.ylabel('Loss')\n",
        "plt.legend()\n",
        "plt.title('Train vs Validation Loss (Seq2Seq LSTM Model)')\n",
        "plt.show()"
      ],
      "metadata": {
        "id": "FizsHme9HWvp",
        "colab": {
          "base_uri": "https://localhost:8080/",
          "height": 472
        },
        "outputId": "22b06b53-33cb-41be-9039-8baa769f0ce3"
      },
      "execution_count": 41,
      "outputs": [
        {
          "output_type": "display_data",
          "data": {
            "text/plain": [
              "<Figure size 640x480 with 1 Axes>"
            ],
            "image/png": "[encoded data removed]"
          },
          "metadata": {}
        }
      ]
    },
    {
      "cell_type": "markdown",
      "source": [
        "# Model 2 — Transformer-style Seq2Seq Setup\n",
        "\n",
        "\n",
        "---\n",
        "\n",
        "\n",
        "\n",
        "---\n",
        "\n",
        "\n",
        "\n",
        "\n",
        "## STEP 7: Transformer Model Functions\n",
        "\n",
        "\n",
        "---\n",
        "\n",
        "\n",
        "\n",
        "\n",
        "\n"
      ],
      "metadata": {
        "id": "Z9NMelSivL5d"
      }
    },
    {
      "cell_type": "code",
      "source": [
        "import tensorflow as tf\n",
        "from tensorflow.keras.layers import Embedding, Dense, LayerNormalization, Dropout\n",
        "import numpy as np\n",
        "\n",
        "class TransformerBlock(tf.keras.layers.Layer):\n",
        "    def __init__(self, embed_dim, num_heads, ff_dim, rate=0.1):\n",
        "        super(TransformerBlock, self).__init__()\n",
        "        self.att = tf.keras.layers.MultiHeadAttention(num_heads=num_heads, key_dim=embed_dim)\n",
        "        self.ffn = tf.keras.Sequential([\n",
        "            Dense(ff_dim, activation=\"relu\"),\n",
        "            Dense(embed_dim),\n",
        "        ])\n",
        "        self.layernorm1 = LayerNormalization(epsilon=1e-6)\n",
        "        self.layernorm2 = LayerNormalization(epsilon=1e-6)\n",
        "        self.dropout1 = Dropout(rate)\n",
        "        self.dropout2 = Dropout(rate)\n",
        "\n",
        "    def call(self, inputs, training):\n",
        "        attn_output = self.att(inputs, inputs)\n",
        "        attn_output = self.dropout1(attn_output, training=training)\n",
        "        out1 = self.layernorm1(inputs + attn_output)\n",
        "        ffn_output = self.ffn(out1)\n",
        "        ffn_output = self.dropout2(ffn_output, training=training)\n",
        "        return self.layernorm2(out1 + ffn_output)"
      ],
      "metadata": {
        "id": "JZS3toWI6SAD"
      },
      "execution_count": 42,
      "outputs": []
    },
    {
      "cell_type": "code",
      "source": [
        "class TokenAndPositionEmbedding(tf.keras.layers.Layer):\n",
        "    def __init__(self, maxlen, vocab_size, embed_dim):\n",
        "        super(TokenAndPositionEmbedding, self).__init__()\n",
        "        self.token_emb = Embedding(input_dim=vocab_size, output_dim=embed_dim)\n",
        "        self.pos_emb = Embedding(input_dim=maxlen, output_dim=embed_dim)\n",
        "\n",
        "    def call(self, x):\n",
        "        maxlen = tf.shape(x)[-1]\n",
        "        positions = tf.range(start=0, limit=maxlen, delta=1)\n",
        "        positions = self.pos_emb(positions)\n",
        "        x = self.token_emb(x)\n",
        "        return x + positions\n"
      ],
      "metadata": {
        "id": "wcGVlh3P6UHk"
      },
      "execution_count": 43,
      "outputs": []
    },
    {
      "cell_type": "markdown",
      "source": [
        "## STEP8: Build Transformer Model\n",
        "\n",
        "---\n",
        "\n"
      ],
      "metadata": {
        "id": "VWnTieKxs4iR"
      }
    },
    {
      "cell_type": "code",
      "source": [
        "# Model Parameters\n",
        "embed_dim = 128  # Embedding size\n",
        "num_heads = 8  # Number of attention heads\n",
        "ff_dim = 512  # Feed forward layer size\n",
        "max_len = 16  # Sentence max length (same as Seq2Seq model)\n",
        "\n",
        "# Define Encoder\n",
        "encoder_inputs = tf.keras.Input(shape=(None,))\n",
        "embedding_layer = TokenAndPositionEmbedding(max_len, english_vocab_size, embed_dim)\n",
        "x = embedding_layer(encoder_inputs)\n",
        "transformer_block = TransformerBlock(embed_dim, num_heads, ff_dim)\n",
        "x = transformer_block(x, training=False) # Pass training=False during model building\n",
        "encoder_outputs = LayerNormalization(epsilon=1e-6)(x)\n",
        "\n",
        "# Define Decoder\n",
        "decoder_inputs = tf.keras.Input(shape=(None,))\n",
        "decoder_embedding = TokenAndPositionEmbedding(max_len, arabic_vocab_size, embed_dim)\n",
        "dec_x = decoder_embedding(decoder_inputs)\n",
        "dec_x = transformer_block(dec_x, training=False) # Pass training=False here as well\n",
        "decoder_outputs = Dense(arabic_vocab_size, activation=\"softmax\")(dec_x)\n",
        "\n",
        "# Define Full Transformer Model\n",
        "transformer_model = tf.keras.Model([encoder_inputs, decoder_inputs], decoder_outputs)\n",
        "transformer_model.compile(optimizer=\"adam\", loss=\"sparse_categorical_crossentropy\", metrics=[\"accuracy\"])\n",
        "transformer_model.summary()"
      ],
      "metadata": {
        "colab": {
          "base_uri": "https://localhost:8080/",
          "height": 353
        },
        "id": "jzLoziyl6Y0E",
        "outputId": "02ebca45-6466-4b6b-ee74-a69b4fffce0e"
      },
      "execution_count": 45,
      "outputs": [
        {
          "output_type": "display_data",
          "data": {
            "text/plain": [
              "\u001b[1mModel: \"functional_3\"\u001b[0m\n"
            ],
            "text/html": [
              "<pre style=\"white-space:pre;overflow-x:auto;line-height:normal;font-family:Menlo,'DejaVu Sans Mono',consolas,'Courier New',monospace\"><span style=\"font-weight: bold\">Model: \"functional_3\"</span>\n",
              "</pre>\n"
            ]
          },
          "metadata": {}
        },
        {
          "output_type": "display_data",
          "data": {
            "text/plain": [
              "┏━━━━━━━━━━━━━━━━━━━━━━━━━━━┳━━━━━━━━━━━━━━━━━━━━━━━━┳━━━━━━━━━━━━━━━━┳━━━━━━━━━━━━━━━━━━━━━━━━┓\n",
              "┃\u001b[1m \u001b[0m\u001b[1mLayer (type)             \u001b[0m\u001b[1m \u001b[0m┃\u001b[1m \u001b[0m\u001b[1mOutput Shape          \u001b[0m\u001b[1m \u001b[0m┃\u001b[1m \u001b[0m\u001b[1m       Param #\u001b[0m\u001b[1m \u001b[0m┃\u001b[1m \u001b[0m\u001b[1mConnected to          \u001b[0m\u001b[1m \u001b[0m┃\n",
              "┡━━━━━━━━━━━━━━━━━━━━━━━━━━━╇━━━━━━━━━━━━━━━━━━━━━━━━╇━━━━━━━━━━━━━━━━╇━━━━━━━━━━━━━━━━━━━━━━━━┩\n",
              "│ input_layer_7             │ (\u001b[38;5;45mNone\u001b[0m, \u001b[38;5;45mNone\u001b[0m)           │              \u001b[38;5;34m0\u001b[0m │ -                      │\n",
              "│ (\u001b[38;5;33mInputLayer\u001b[0m)              │                        │                │                        │\n",
              "├───────────────────────────┼────────────────────────┼────────────────┼────────────────────────┤\n",
              "│ token_and_position_embed… │ (\u001b[38;5;45mNone\u001b[0m, \u001b[38;5;45mNone\u001b[0m, \u001b[38;5;34m128\u001b[0m)      │      \u001b[38;5;34m1,127,808\u001b[0m │ input_layer_7[\u001b[38;5;34m0\u001b[0m][\u001b[38;5;34m0\u001b[0m]    │\n",
              "│ (\u001b[38;5;33mTokenAndPositionEmbeddi…\u001b[0m │                        │                │                        │\n",
              "├───────────────────────────┼────────────────────────┼────────────────┼────────────────────────┤\n",
              "│ transformer_block_1       │ (\u001b[38;5;45mNone\u001b[0m, \u001b[38;5;45mNone\u001b[0m, \u001b[38;5;34m128\u001b[0m)      │        \u001b[38;5;34m659,712\u001b[0m │ token_and_position_em… │\n",
              "│ (\u001b[38;5;33mTransformerBlock\u001b[0m)        │                        │                │                        │\n",
              "├───────────────────────────┼────────────────────────┼────────────────┼────────────────────────┤\n",
              "│ input_layer_5             │ (\u001b[38;5;45mNone\u001b[0m, \u001b[38;5;45mNone\u001b[0m)           │              \u001b[38;5;34m0\u001b[0m │ -                      │\n",
              "│ (\u001b[38;5;33mInputLayer\u001b[0m)              │                        │                │                        │\n",
              "├───────────────────────────┼────────────────────────┼────────────────┼────────────────────────┤\n",
              "│ dense_6 (\u001b[38;5;33mDense\u001b[0m)           │ (\u001b[38;5;45mNone\u001b[0m, \u001b[38;5;45mNone\u001b[0m, \u001b[38;5;34m8795\u001b[0m)     │      \u001b[38;5;34m1,134,555\u001b[0m │ transformer_block_1[\u001b[38;5;34m1\u001b[0m… │\n",
              "└───────────────────────────┴────────────────────────┴────────────────┴────────────────────────┘\n"
            ],
            "text/html": [
              "<pre style=\"white-space:pre;overflow-x:auto;line-height:normal;font-family:Menlo,'DejaVu Sans Mono',consolas,'Courier New',monospace\">┏━━━━━━━━━━━━━━━━━━━━━━━━━━━┳━━━━━━━━━━━━━━━━━━━━━━━━┳━━━━━━━━━━━━━━━━┳━━━━━━━━━━━━━━━━━━━━━━━━┓\n",
              "┃<span style=\"font-weight: bold\"> Layer (type)              </span>┃<span style=\"font-weight: bold\"> Output Shape           </span>┃<span style=\"font-weight: bold\">        Param # </span>┃<span style=\"font-weight: bold\"> Connected to           </span>┃\n",
              "┡━━━━━━━━━━━━━━━━━━━━━━━━━━━╇━━━━━━━━━━━━━━━━━━━━━━━━╇━━━━━━━━━━━━━━━━╇━━━━━━━━━━━━━━━━━━━━━━━━┩\n",
              "│ input_layer_7             │ (<span style=\"color: #00d7ff; text-decoration-color: #00d7ff\">None</span>, <span style=\"color: #00d7ff; text-decoration-color: #00d7ff\">None</span>)           │              <span style=\"color: #00af00; text-decoration-color: #00af00\">0</span> │ -                      │\n",
              "│ (<span style=\"color: #0087ff; text-decoration-color: #0087ff\">InputLayer</span>)              │                        │                │                        │\n",
              "├───────────────────────────┼────────────────────────┼────────────────┼────────────────────────┤\n",
              "│ token_and_position_embed… │ (<span style=\"color: #00d7ff; text-decoration-color: #00d7ff\">None</span>, <span style=\"color: #00d7ff; text-decoration-color: #00d7ff\">None</span>, <span style=\"color: #00af00; text-decoration-color: #00af00\">128</span>)      │      <span style=\"color: #00af00; text-decoration-color: #00af00\">1,127,808</span> │ input_layer_7[<span style=\"color: #00af00; text-decoration-color: #00af00\">0</span>][<span style=\"color: #00af00; text-decoration-color: #00af00\">0</span>]    │\n",
              "│ (<span style=\"color: #0087ff; text-decoration-color: #0087ff\">TokenAndPositionEmbeddi…</span> │                        │                │                        │\n",
              "├───────────────────────────┼────────────────────────┼────────────────┼────────────────────────┤\n",
              "│ transformer_block_1       │ (<span style=\"color: #00d7ff; text-decoration-color: #00d7ff\">None</span>, <span style=\"color: #00d7ff; text-decoration-color: #00d7ff\">None</span>, <span style=\"color: #00af00; text-decoration-color: #00af00\">128</span>)      │        <span style=\"color: #00af00; text-decoration-color: #00af00\">659,712</span> │ token_and_position_em… │\n",
              "│ (<span style=\"color: #0087ff; text-decoration-color: #0087ff\">TransformerBlock</span>)        │                        │                │                        │\n",
              "├───────────────────────────┼────────────────────────┼────────────────┼────────────────────────┤\n",
              "│ input_layer_5             │ (<span style=\"color: #00d7ff; text-decoration-color: #00d7ff\">None</span>, <span style=\"color: #00d7ff; text-decoration-color: #00d7ff\">None</span>)           │              <span style=\"color: #00af00; text-decoration-color: #00af00\">0</span> │ -                      │\n",
              "│ (<span style=\"color: #0087ff; text-decoration-color: #0087ff\">InputLayer</span>)              │                        │                │                        │\n",
              "├───────────────────────────┼────────────────────────┼────────────────┼────────────────────────┤\n",
              "│ dense_6 (<span style=\"color: #0087ff; text-decoration-color: #0087ff\">Dense</span>)           │ (<span style=\"color: #00d7ff; text-decoration-color: #00d7ff\">None</span>, <span style=\"color: #00d7ff; text-decoration-color: #00d7ff\">None</span>, <span style=\"color: #00af00; text-decoration-color: #00af00\">8795</span>)     │      <span style=\"color: #00af00; text-decoration-color: #00af00\">1,134,555</span> │ transformer_block_1[<span style=\"color: #00af00; text-decoration-color: #00af00\">1</span>… │\n",
              "└───────────────────────────┴────────────────────────┴────────────────┴────────────────────────┘\n",
              "</pre>\n"
            ]
          },
          "metadata": {}
        },
        {
          "output_type": "display_data",
          "data": {
            "text/plain": [
              "\u001b[1m Total params: \u001b[0m\u001b[38;5;34m2,922,075\u001b[0m (11.15 MB)\n"
            ],
            "text/html": [
              "<pre style=\"white-space:pre;overflow-x:auto;line-height:normal;font-family:Menlo,'DejaVu Sans Mono',consolas,'Courier New',monospace\"><span style=\"font-weight: bold\"> Total params: </span><span style=\"color: #00af00; text-decoration-color: #00af00\">2,922,075</span> (11.15 MB)\n",
              "</pre>\n"
            ]
          },
          "metadata": {}
        },
        {
          "output_type": "display_data",
          "data": {
            "text/plain": [
              "\u001b[1m Trainable params: \u001b[0m\u001b[38;5;34m2,922,075\u001b[0m (11.15 MB)\n"
            ],
            "text/html": [
              "<pre style=\"white-space:pre;overflow-x:auto;line-height:normal;font-family:Menlo,'DejaVu Sans Mono',consolas,'Courier New',monospace\"><span style=\"font-weight: bold\"> Trainable params: </span><span style=\"color: #00af00; text-decoration-color: #00af00\">2,922,075</span> (11.15 MB)\n",
              "</pre>\n"
            ]
          },
          "metadata": {}
        },
        {
          "output_type": "display_data",
          "data": {
            "text/plain": [
              "\u001b[1m Non-trainable params: \u001b[0m\u001b[38;5;34m0\u001b[0m (0.00 B)\n"
            ],
            "text/html": [
              "<pre style=\"white-space:pre;overflow-x:auto;line-height:normal;font-family:Menlo,'DejaVu Sans Mono',consolas,'Courier New',monospace\"><span style=\"font-weight: bold\"> Non-trainable params: </span><span style=\"color: #00af00; text-decoration-color: #00af00\">0</span> (0.00 B)\n",
              "</pre>\n"
            ]
          },
          "metadata": {}
        }
      ]
    },
    {
      "cell_type": "markdown",
      "source": [
        "##  Training the Transformer Seq2Seq Model\n",
        "\n",
        "* Optimizer = Adam\n",
        "* Loss = Sparse categorical crossentropy (matching integer-encoded targets)\n",
        "* Trimmed decoder input + shifted decoder target setup\n",
        "* Plots for visualizing training"
      ],
      "metadata": {
        "id": "_IZwH0pf1KTI"
      }
    },
    {
      "cell_type": "code",
      "source": [
        "# Training\n",
        "train_ar_in = arabic_train[:, :-1]\n",
        "train_ar_out = arabic_train[:, 1:]\n",
        "val_ar_in = arabic_val[:, :-1]\n",
        "val_ar_out = arabic_val[:, 1:]\n",
        "\n",
        "history = transformer_model.fit(\n",
        "    [english_train, train_ar_in], train_ar_out,\n",
        "    validation_data=([english_val, val_ar_in], val_ar_out),\n",
        "    batch_size=64, epochs=20, callbacks=[tf.keras.callbacks.EarlyStopping(monitor='val_loss', patience=3)]\n",
        ")"
      ],
      "metadata": {
        "colab": {
          "base_uri": "https://localhost:8080/"
        },
        "id": "x1OmvOPA1FLb",
        "outputId": "4c9b1f3e-d003-4a0b-d6c4-9e0b1d45dd66"
      },
      "execution_count": 46,
      "outputs": [
        {
          "output_type": "stream",
          "name": "stdout",
          "text": [
            "Epoch 1/20\n",
            "\u001b[1m235/235\u001b[0m \u001b[32m━━━━━━━━━━━━━━━━━━━━\u001b[0m\u001b[37m\u001b[0m \u001b[1m19s\u001b[0m 42ms/step - accuracy: 0.8501 - loss: 2.5739 - val_accuracy: 0.6919 - val_loss: 2.5364\n",
            "Epoch 2/20\n",
            "\u001b[1m235/235\u001b[0m \u001b[32m━━━━━━━━━━━━━━━━━━━━\u001b[0m\u001b[37m\u001b[0m \u001b[1m3s\u001b[0m 13ms/step - accuracy: 0.9391 - loss: 0.4411 - val_accuracy: 0.7309 - val_loss: 2.2740\n",
            "Epoch 3/20\n",
            "\u001b[1m235/235\u001b[0m \u001b[32m━━━━━━━━━━━━━━━━━━━━\u001b[0m\u001b[37m\u001b[0m \u001b[1m5s\u001b[0m 13ms/step - accuracy: 0.9543 - loss: 0.3077 - val_accuracy: 0.7471 - val_loss: 2.2193\n",
            "Epoch 4/20\n",
            "\u001b[1m235/235\u001b[0m \u001b[32m━━━━━━━━━━━━━━━━━━━━\u001b[0m\u001b[37m\u001b[0m \u001b[1m3s\u001b[0m 14ms/step - accuracy: 0.9665 - loss: 0.2130 - val_accuracy: 0.7815 - val_loss: 1.9412\n",
            "Epoch 5/20\n",
            "\u001b[1m235/235\u001b[0m \u001b[32m━━━━━━━━━━━━━━━━━━━━\u001b[0m\u001b[37m\u001b[0m \u001b[1m3s\u001b[0m 13ms/step - accuracy: 0.9801 - loss: 0.1327 - val_accuracy: 0.8082 - val_loss: 1.7538\n",
            "Epoch 6/20\n",
            "\u001b[1m235/235\u001b[0m \u001b[32m━━━━━━━━━━━━━━━━━━━━\u001b[0m\u001b[37m\u001b[0m \u001b[1m5s\u001b[0m 13ms/step - accuracy: 0.9897 - loss: 0.0743 - val_accuracy: 0.8310 - val_loss: 1.6497\n",
            "Epoch 7/20\n",
            "\u001b[1m235/235\u001b[0m \u001b[32m━━━━━━━━━━━━━━━━━━━━\u001b[0m\u001b[37m\u001b[0m \u001b[1m3s\u001b[0m 14ms/step - accuracy: 0.9962 - loss: 0.0409 - val_accuracy: 0.8453 - val_loss: 1.5796\n",
            "Epoch 8/20\n",
            "\u001b[1m235/235\u001b[0m \u001b[32m━━━━━━━━━━━━━━━━━━━━\u001b[0m\u001b[37m\u001b[0m \u001b[1m5s\u001b[0m 13ms/step - accuracy: 0.9996 - loss: 0.0192 - val_accuracy: 0.8541 - val_loss: 1.5092\n",
            "Epoch 9/20\n",
            "\u001b[1m235/235\u001b[0m \u001b[32m━━━━━━━━━━━━━━━━━━━━\u001b[0m\u001b[37m\u001b[0m \u001b[1m5s\u001b[0m 13ms/step - accuracy: 1.0000 - loss: 0.0087 - val_accuracy: 0.8567 - val_loss: 1.5243\n",
            "Epoch 10/20\n",
            "\u001b[1m235/235\u001b[0m \u001b[32m━━━━━━━━━━━━━━━━━━━━\u001b[0m\u001b[37m\u001b[0m \u001b[1m5s\u001b[0m 14ms/step - accuracy: 1.0000 - loss: 0.0039 - val_accuracy: 0.8615 - val_loss: 1.4722\n",
            "Epoch 11/20\n",
            "\u001b[1m235/235\u001b[0m \u001b[32m━━━━━━━━━━━━━━━━━━━━\u001b[0m\u001b[37m\u001b[0m \u001b[1m3s\u001b[0m 13ms/step - accuracy: 1.0000 - loss: 0.0025 - val_accuracy: 0.8664 - val_loss: 1.4310\n",
            "Epoch 12/20\n",
            "\u001b[1m235/235\u001b[0m \u001b[32m━━━━━━━━━━━━━━━━━━━━\u001b[0m\u001b[37m\u001b[0m \u001b[1m5s\u001b[0m 15ms/step - accuracy: 0.9999 - loss: 0.0020 - val_accuracy: 0.8695 - val_loss: 1.5052\n",
            "Epoch 13/20\n",
            "\u001b[1m235/235\u001b[0m \u001b[32m━━━━━━━━━━━━━━━━━━━━\u001b[0m\u001b[37m\u001b[0m \u001b[1m5s\u001b[0m 14ms/step - accuracy: 0.9999 - loss: 0.0017 - val_accuracy: 0.8721 - val_loss: 1.4610\n",
            "Epoch 14/20\n",
            "\u001b[1m235/235\u001b[0m \u001b[32m━━━━━━━━━━━━━━━━━━━━\u001b[0m\u001b[37m\u001b[0m \u001b[1m5s\u001b[0m 13ms/step - accuracy: 1.0000 - loss: 9.1495e-04 - val_accuracy: 0.8740 - val_loss: 1.4536\n"
          ]
        }
      ]
    },
    {
      "cell_type": "markdown",
      "source": [
        "## STEP 9:  Train Transformer Model"
      ],
      "metadata": {
        "id": "U9bVd3a9thAp"
      }
    },
    {
      "cell_type": "code",
      "source": [
        "history_tf = transformer_model.fit([english_train, train_arb_in], train_ar_out,\n",
        "                                   validation_data=([english_val, val_ar_in], val_ar_out),\n",
        "                                   batch_size=64, epochs=20, callbacks=[early_stop, reduce_lr])"
      ],
      "metadata": {
        "colab": {
          "base_uri": "https://localhost:8080/"
        },
        "id": "vjL_V2Im1p9n",
        "outputId": "89593418-19b8-47ef-c3fc-46a76629639d"
      },
      "execution_count": 47,
      "outputs": [
        {
          "output_type": "stream",
          "name": "stdout",
          "text": [
            "Epoch 1/20\n",
            "\u001b[1m235/235\u001b[0m \u001b[32m━━━━━━━━━━━━━━━━━━━━\u001b[0m\u001b[37m\u001b[0m \u001b[1m3s\u001b[0m 14ms/step - accuracy: 1.0000 - loss: 6.9527e-04 - val_accuracy: 0.8743 - val_loss: 1.4637 - learning_rate: 0.0010\n",
            "Epoch 2/20\n",
            "\u001b[1m235/235\u001b[0m \u001b[32m━━━━━━━━━━━━━━━━━━━━\u001b[0m\u001b[37m\u001b[0m \u001b[1m6s\u001b[0m 16ms/step - accuracy: 1.0000 - loss: 5.5102e-04 - val_accuracy: 0.8748 - val_loss: 1.4686 - learning_rate: 0.0010\n",
            "Epoch 3/20\n",
            "\u001b[1m235/235\u001b[0m \u001b[32m━━━━━━━━━━━━━━━━━━━━\u001b[0m\u001b[37m\u001b[0m \u001b[1m3s\u001b[0m 13ms/step - accuracy: 1.0000 - loss: 4.7839e-04 - val_accuracy: 0.8752 - val_loss: 1.4707 - learning_rate: 0.0010\n"
          ]
        }
      ]
    },
    {
      "cell_type": "code",
      "source": [
        "import matplotlib.pyplot as plt\n",
        "\n",
        "plt.figure(figsize=(8, 5))\n",
        "plt.plot(history.history['loss'], label='Training Loss')\n",
        "plt.plot(history.history['val_loss'], label='Validation Loss')\n",
        "plt.title('Transformer Model Training Loss')\n",
        "plt.xlabel('Epoch')\n",
        "plt.ylabel('Loss')\n",
        "plt.legend()\n",
        "plt.show()"
      ],
      "metadata": {
        "colab": {
          "base_uri": "https://localhost:8080/",
          "height": 487
        },
        "id": "rhUrxmmm2b1G",
        "outputId": "a3fdeeb0-3c58-4e00-8512-7f9b4bf8e137"
      },
      "execution_count": 48,
      "outputs": [
        {
          "output_type": "display_data",
          "data": {
            "text/plain": [
              "<Figure size 800x500 with 1 Axes>"
            ],
            "image/png": "[encoded data removed]"
          },
          "metadata": {}
        }
      ]
    },
    {
      "cell_type": "markdown",
      "source": [
        "## FINAL: Inference Testing on Unseen Data\n",
        "\n",
        "---\n",
        "\n",
        "\n",
        "\n",
        "---\n",
        "\n"
      ],
      "metadata": {
        "id": "jNaaJ7IN7AzP"
      }
    },
    {
      "cell_type": "code",
      "source": [
        "test_sentences = [\n",
        "    \"How are you today?\",\n",
        "    \"I love learning new things.\",\n",
        "    \"What time is the meeting?\",\n",
        "    \"This project was challenging and fun!\",\n",
        "    \"You are amazing.\"\n",
        "]\n",
        "\n",
        "for sent in test_sentences:\n",
        "    predict_translation(sent)\n"
      ],
      "metadata": {
        "colab": {
          "base_uri": "https://localhost:8080/",
          "height": 339
        },
        "id": "pZF962237ZJh",
        "outputId": "735d6c07-beb3-4e57-fdd7-859febad15f4"
      },
      "execution_count": 56,
      "outputs": [
        {
          "output_type": "error",
          "ename": "KeyError",
          "evalue": "'Exception encountered when calling Functional.call().\\n\\n\\x1b[1m135157177905680\\x1b[0m\\n\\nArguments received by Functional.call():\\n  • inputs=tf.Tensor(shape=(1, 11), dtype=int32)\\n  • training=False\\n  • mask=None'",
          "traceback": [
            "\u001b[0;31m---------------------------------------------------------------------------\u001b[0m",
            "\u001b[0;31mKeyError\u001b[0m                                  Traceback (most recent call last)",
            "\u001b[0;32m<ipython-input-56-de244108d1f1>\u001b[0m in \u001b[0;36m<cell line: 0>\u001b[0;34m()\u001b[0m\n\u001b[1;32m      8\u001b[0m \u001b[0;34m\u001b[0m\u001b[0m\n\u001b[1;32m      9\u001b[0m \u001b[0;32mfor\u001b[0m \u001b[0msent\u001b[0m \u001b[0;32min\u001b[0m \u001b[0mtest_sentences\u001b[0m\u001b[0;34m:\u001b[0m\u001b[0;34m\u001b[0m\u001b[0;34m\u001b[0m\u001b[0m\n\u001b[0;32m---> 10\u001b[0;31m     \u001b[0mpredict_translation\u001b[0m\u001b[0;34m(\u001b[0m\u001b[0msent\u001b[0m\u001b[0;34m)\u001b[0m\u001b[0;34m\u001b[0m\u001b[0;34m\u001b[0m\u001b[0m\n\u001b[0m",
            "\u001b[0;32m<ipython-input-55-8cf68bd108e3>\u001b[0m in \u001b[0;36mpredict_translation\u001b[0;34m(input_sentence)\u001b[0m\n\u001b[1;32m     16\u001b[0m \u001b[0;34m\u001b[0m\u001b[0m\n\u001b[1;32m     17\u001b[0m     \u001b[0;31m# Encode input\u001b[0m\u001b[0;34m\u001b[0m\u001b[0;34m\u001b[0m\u001b[0m\n\u001b[0;32m---> 18\u001b[0;31m     \u001b[0mstates_value\u001b[0m \u001b[0;34m=\u001b[0m \u001b[0mencoder_model\u001b[0m\u001b[0;34m.\u001b[0m\u001b[0mpredict\u001b[0m\u001b[0;34m(\u001b[0m\u001b[0minput_seq\u001b[0m\u001b[0;34m)\u001b[0m  \u001b[0;31m# Extract states from trained encoder\u001b[0m\u001b[0;34m\u001b[0m\u001b[0;34m\u001b[0m\u001b[0m\n\u001b[0m\u001b[1;32m     19\u001b[0m \u001b[0;34m\u001b[0m\u001b[0m\n\u001b[1;32m     20\u001b[0m     \u001b[0;31m# Decoder initial input\u001b[0m\u001b[0;34m\u001b[0m\u001b[0;34m\u001b[0m\u001b[0m\n",
            "\u001b[0;32m/usr/local/lib/python3.11/dist-packages/keras/src/utils/traceback_utils.py\u001b[0m in \u001b[0;36merror_handler\u001b[0;34m(*args, **kwargs)\u001b[0m\n\u001b[1;32m    120\u001b[0m             \u001b[0;31m# To get the full stack trace, call:\u001b[0m\u001b[0;34m\u001b[0m\u001b[0;34m\u001b[0m\u001b[0m\n\u001b[1;32m    121\u001b[0m             \u001b[0;31m# `keras.config.disable_traceback_filtering()`\u001b[0m\u001b[0;34m\u001b[0m\u001b[0;34m\u001b[0m\u001b[0m\n\u001b[0;32m--> 122\u001b[0;31m             \u001b[0;32mraise\u001b[0m \u001b[0me\u001b[0m\u001b[0;34m.\u001b[0m\u001b[0mwith_traceback\u001b[0m\u001b[0;34m(\u001b[0m\u001b[0mfiltered_tb\u001b[0m\u001b[0;34m)\u001b[0m \u001b[0;32mfrom\u001b[0m \u001b[0;32mNone\u001b[0m\u001b[0;34m\u001b[0m\u001b[0;34m\u001b[0m\u001b[0m\n\u001b[0m\u001b[1;32m    123\u001b[0m         \u001b[0;32mfinally\u001b[0m\u001b[0;34m:\u001b[0m\u001b[0;34m\u001b[0m\u001b[0;34m\u001b[0m\u001b[0m\n\u001b[1;32m    124\u001b[0m             \u001b[0;32mdel\u001b[0m \u001b[0mfiltered_tb\u001b[0m\u001b[0;34m\u001b[0m\u001b[0;34m\u001b[0m\u001b[0m\n",
            "\u001b[0;32m/usr/local/lib/python3.11/dist-packages/keras/src/ops/function.py\u001b[0m in \u001b[0;36m_run_through_graph\u001b[0;34m(self, inputs, operation_fn, call_fn)\u001b[0m\n\u001b[1;32m    177\u001b[0m         \u001b[0moutput_tensors\u001b[0m \u001b[0;34m=\u001b[0m \u001b[0;34m[\u001b[0m\u001b[0;34m]\u001b[0m\u001b[0;34m\u001b[0m\u001b[0;34m\u001b[0m\u001b[0m\n\u001b[1;32m    178\u001b[0m         \u001b[0;32mfor\u001b[0m \u001b[0mx\u001b[0m \u001b[0;32min\u001b[0m \u001b[0mself\u001b[0m\u001b[0;34m.\u001b[0m\u001b[0moutputs\u001b[0m\u001b[0;34m:\u001b[0m\u001b[0;34m\u001b[0m\u001b[0;34m\u001b[0m\u001b[0m\n\u001b[0;32m--> 179\u001b[0;31m             \u001b[0moutput_tensors\u001b[0m\u001b[0;34m.\u001b[0m\u001b[0mappend\u001b[0m\u001b[0;34m(\u001b[0m\u001b[0mtensor_dict\u001b[0m\u001b[0;34m[\u001b[0m\u001b[0mid\u001b[0m\u001b[0;34m(\u001b[0m\u001b[0mx\u001b[0m\u001b[0;34m)\u001b[0m\u001b[0;34m]\u001b[0m\u001b[0;34m)\u001b[0m\u001b[0;34m\u001b[0m\u001b[0;34m\u001b[0m\u001b[0m\n\u001b[0m\u001b[1;32m    180\u001b[0m \u001b[0;34m\u001b[0m\u001b[0m\n\u001b[1;32m    181\u001b[0m         \u001b[0;32mreturn\u001b[0m \u001b[0mtree\u001b[0m\u001b[0;34m.\u001b[0m\u001b[0mpack_sequence_as\u001b[0m\u001b[0;34m(\u001b[0m\u001b[0mself\u001b[0m\u001b[0;34m.\u001b[0m\u001b[0m_outputs_struct\u001b[0m\u001b[0;34m,\u001b[0m \u001b[0moutput_tensors\u001b[0m\u001b[0;34m)\u001b[0m\u001b[0;34m\u001b[0m\u001b[0;34m\u001b[0m\u001b[0m\n",
            "\u001b[0;31mKeyError\u001b[0m: 'Exception encountered when calling Functional.call().\\n\\n\\x1b[1m135157177905680\\x1b[0m\\n\\nArguments received by Functional.call():\\n  • inputs=tf.Tensor(shape=(1, 11), dtype=int32)\\n  • training=False\\n  • mask=None'"
          ]
        }
      ]
    }
  ]
}