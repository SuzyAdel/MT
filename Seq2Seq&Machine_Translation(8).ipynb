{
  "nbformat": 4,
  "nbformat_minor": 0,
  "metadata": {
    "colab": {
      "provenance": [],
      "gpuType": "T4"
    },
    "kernelspec": {
      "name": "python3",
      "display_name": "Python 3"
    },
    "language_info": {
      "name": "python"
    },
    "accelerator": "GPU"
  },
  "cells": [
    {
      "cell_type": "markdown",
      "source": [],
      "metadata": {
        "id": "1P1nPMXsxR5S"
      }
    },
    {
      "cell_type": "markdown",
      "source": [
        "✅ Workflow Plan:\n",
        "* Step 1: Load and explore the dataset.\n",
        "* Step 2: Preprocessing + add <start> and <end> tokens.\n",
        "* Step 3: Tokenization (with <OOV> handling).\n",
        "* Step 4: Padding and sequence preparation.\n",
        "* Step 5: Model 1 — Seq2Seq encoder-decoder model setup.\n",
        "* Step 6: Training + loss plots.\n",
        "* Step 7: Model 2 — Transformer-style seq2seq setup.\n",
        "* Step 8: Training + loss plots.\n",
        "* Step 9: Inference testing on unseen data.."
      ],
      "metadata": {
        "id": "Ji1CMvqb7QOR"
      }
    },
    {
      "cell_type": "markdown",
      "source": [
        "## STEP 1: Load & Explore Dataset\n",
        "\n",
        "---\n",
        "\n"
      ],
      "metadata": {
        "id": "1CtHYLL6zrgl"
      }
    },
    {
      "cell_type": "code",
      "source": [
        "import numpy as np\n",
        "import pandas as pd\n",
        "import tensorflow as tf\n",
        "import re\n",
        "import matplotlib.pyplot as plt"
      ],
      "metadata": {
        "id": "haIPyMx3lX8p"
      },
      "execution_count": 1,
      "outputs": []
    },
    {
      "cell_type": "code",
      "execution_count": 2,
      "metadata": {
        "colab": {
          "base_uri": "https://localhost:8080/"
        },
        "id": "Mn2e1kmfxEtb",
        "outputId": "bb6e4ee0-9edc-48db-c483-e427fd5a752c"
      },
      "outputs": [
        {
          "output_type": "stream",
          "name": "stdout",
          "text": [
            "Mounted at /content/drive\n"
          ]
        }
      ],
      "source": [
        "from google.colab import drive\n",
        "drive.mount('/content/drive')"
      ]
    },
    {
      "cell_type": "code",
      "source": [
        "import matplotlib.pyplot as plt\n",
        "\n",
        "# Path to your dataset (adjust if needed)\n",
        "file_path = '/content/drive/MyDrive/MT_Data/english-arabic-dataset.txt'\n",
        "\n",
        "# Load first 10,000 lines\n",
        "with open(file_path, 'r', encoding='utf-8') as f:\n",
        "    lines = f.readlines()[:10000]\n",
        "\n",
        "print(f\"Total samples loaded: {len(lines)}\")"
      ],
      "metadata": {
        "colab": {
          "base_uri": "https://localhost:8080/"
        },
        "id": "587q5YPUz9jv",
        "outputId": "9a25e2a4-06e2-4d1a-bf31-bcab8d392a47"
      },
      "execution_count": 3,
      "outputs": [
        {
          "output_type": "stream",
          "name": "stdout",
          "text": [
            "Total samples loaded: 10000\n"
          ]
        }
      ]
    },
    {
      "cell_type": "code",
      "source": [
        "# Separate English and Arabic sentences\n",
        "eng_sentences = [str(line[0]) for line in lines]\n",
        "arb_sentences = [str(line[1]) for line in lines]\n",
        "\n",
        "for line in lines:\n",
        "    try:\n",
        "        eng, arb = line.strip().split('\\t')\n",
        "        eng_sentences.append(eng)\n",
        "        arb_sentences.append(arb)\n",
        "    except ValueError:\n",
        "        continue\n",
        "# Print 5 samples\n",
        "for i in range(5):\n",
        "    print(f\"ENGLISH: {eng_sentences[i]}\")\n",
        "    print(f\"ARABIC : {arb_sentences[i]}\")\n",
        "    print('---')"
      ],
      "metadata": {
        "colab": {
          "base_uri": "https://localhost:8080/"
        },
        "id": "xKADJmQx0EJT",
        "outputId": "73e6a6a3-1ec3-41c6-998e-b4c112da0c8b"
      },
      "execution_count": 4,
      "outputs": [
        {
          "output_type": "stream",
          "name": "stdout",
          "text": [
            "ENGLISH: H\n",
            "ARABIC : i\n",
            "---\n",
            "ENGLISH: R\n",
            "ARABIC : u\n",
            "---\n",
            "ENGLISH: H\n",
            "ARABIC : e\n",
            "---\n",
            "ENGLISH: J\n",
            "ARABIC : u\n",
            "---\n",
            "ENGLISH: S\n",
            "ARABIC : t\n",
            "---\n"
          ]
        }
      ]
    },
    {
      "cell_type": "code",
      "source": [
        "# Sentence length analysis\n",
        "eng_lengths = [len(sentence.split()) for sentence in eng_sentences]\n",
        "arb_lengths = [len(sentence.split()) for sentence in arb_sentences]"
      ],
      "metadata": {
        "id": "zd9rRq6C0LBr"
      },
      "execution_count": 5,
      "outputs": []
    },
    {
      "cell_type": "code",
      "source": [
        "# Plot distributions\n",
        "plt.figure(figsize=(12,6))\n",
        "plt.hist(eng_lengths, bins=30, alpha=0.6, label='English sentence lengths')\n",
        "plt.hist(arb_lengths, bins=30, alpha=0.6, label='Arabic sentence lengths')\n",
        "plt.title(\"Sentence Length Distribution\")\n",
        "plt.xlabel(\"Sentence Length (in words)\")\n",
        "plt.ylabel(\"Frequency\")\n",
        "plt.legend()\n",
        "plt.show()"
      ],
      "metadata": {
        "colab": {
          "base_uri": "https://localhost:8080/",
          "height": 564
        },
        "id": "2Qy5CyP30QYh",
        "outputId": "fc9ce2dc-a67d-4ce2-b6f2-d05543f0730c"
      },
      "execution_count": 6,
      "outputs": [
        {
          "output_type": "display_data",
          "data": {
            "text/plain": [
              "<Figure size 1200x600 with 1 Axes>"
            ],
            "image/png": "[encoded data removed]"
          },
          "metadata": {}
        }
      ]
    },
    {
      "cell_type": "code",
      "source": [
        "# Check max lengths\n",
        "print(f\"Max English sentence length: {max(eng_lengths)}\")\n",
        "print(f\"Max Arabic sentence length: {max(arb_lengths)}\")"
      ],
      "metadata": {
        "colab": {
          "base_uri": "https://localhost:8080/"
        },
        "id": "2--7HPO_0edf",
        "outputId": "36881024-3545-4619-b5d5-d53cade57a62"
      },
      "execution_count": 7,
      "outputs": [
        {
          "output_type": "stream",
          "name": "stdout",
          "text": [
            "Max English sentence length: 11\n",
            "Max Arabic sentence length: 14\n"
          ]
        }
      ]
    },
    {
      "cell_type": "markdown",
      "source": [
        "## STEP 2: Preprocessing + Adding <start>, <end> Tokens\n",
        "\n",
        "---\n",
        "\n",
        "\n",
        "*   Lowercase\n",
        "*   Strip whitespace\n",
        "*   Remove punctuation\n",
        "*   Remove digits if any\n",
        "*   Remove double spaces\n",
        "*   Start and end tokens added only on Arabic sentences.\n"
      ],
      "metadata": {
        "id": "cY9gcJ7c2tlJ"
      }
    },
    {
      "cell_type": "code",
      "source": [
        "# Function to clean and add special tokens\n",
        "import re\n",
        "\n",
        "def clean_sentence(sentence):\n",
        "    # Lowercase\n",
        "    sentence = sentence.lower().strip()\n",
        "    # Remove punctuation and digits\n",
        "    sentence = re.sub(r\"[^a-zA-Zء-ي\\s]\", \"\", sentence)  # keeps Arabic & English letters and spaces only\n",
        "    # Remove extra spaces\n",
        "    sentence = re.sub(r'\\s+', ' ', sentence).strip()\n",
        "    return sentence\n",
        "\n",
        "def preprocess_arabic(sentence):\n",
        "    sentence = clean_sentence(sentence)\n",
        "    sentence = f\"<start> {sentence} <end>\"\n",
        "    return sentence\n",
        "\n",
        "def preprocess_english(sentence):\n",
        "    sentence = clean_sentence(sentence)\n",
        "    return sentence\n",
        "\n",
        "# Apply cleaning\n",
        "eng_sentences_cleaned = [preprocess_english(sent) for sent in eng_sentences]\n",
        "arb_sentences_cleaned = [preprocess_arabic(sent) for sent in arb_sentences]\n",
        "\n",
        "# Sanity check\n",
        "for i in range(5):\n",
        "    print(f\"ENGLISH: {eng_sentences_cleaned[i]}\")\n",
        "    print(f\"ARABIC : {arb_sentences_cleaned[i]}\")\n",
        "    print(\"---\")"
      ],
      "metadata": {
        "colab": {
          "base_uri": "https://localhost:8080/"
        },
        "id": "B0VDOmt30gc1",
        "outputId": "7f3adae6-c5f3-4341-85e1-bb5a2a57ac0e"
      },
      "execution_count": 8,
      "outputs": [
        {
          "output_type": "stream",
          "name": "stdout",
          "text": [
            "ENGLISH: h\n",
            "ARABIC : <start> i <end>\n",
            "---\n",
            "ENGLISH: r\n",
            "ARABIC : <start> u <end>\n",
            "---\n",
            "ENGLISH: h\n",
            "ARABIC : <start> e <end>\n",
            "---\n",
            "ENGLISH: j\n",
            "ARABIC : <start> u <end>\n",
            "---\n",
            "ENGLISH: s\n",
            "ARABIC : <start> t <end>\n",
            "---\n"
          ]
        }
      ]
    },
    {
      "cell_type": "markdown",
      "source": [
        "## STEP 3: Tokenization with OOV handling and padding\n",
        "\n",
        "---\n"
      ],
      "metadata": {
        "id": "5WbzS2r_5RrH"
      }
    },
    {
      "cell_type": "code",
      "source": [
        "from tensorflow.keras.preprocessing.text import Tokenizer\n",
        "from tensorflow.keras.preprocessing.sequence import pad_sequences\n",
        "\n",
        "# English tokenizer\n",
        "eng_tokenizer = tf.keras.preprocessing.text.Tokenizer(filters='', oov_token='<OOV>')\n",
        "eng_tokenizer.fit_on_texts(eng_sentences_cleaned)\n",
        "eng_tensor = eng_tokenizer.texts_to_sequences(eng_sentences_cleaned)\n",
        "eng_tensor = tf.keras.preprocessing.sequence.pad_sequences(eng_tensor, padding='post')\n",
        "\n",
        "# Arabic tokenizer\n",
        "arb_tokenizer = tf.keras.preprocessing.text.Tokenizer(filters='', oov_token='<OOV>')\n",
        "arb_tokenizer.fit_on_texts(arb_sentences_cleaned)\n",
        "arb_tensor = arb_tokenizer.texts_to_sequences(arb_sentences_cleaned)\n",
        "arb_tensor = tf.keras.preprocessing.sequence.pad_sequences(arb_tensor, padding='post')\n",
        "\n",
        "# Find max lengths\n",
        "english_vocab_size = len(eng_tokenizer.word_index) + 1\n",
        "arabic_vocab_size = len(arb_tokenizer.word_index) + 1\n",
        "max_eng_len = eng_tensor.shape[1]\n",
        "max_ar_len = arb_tensor.shape[1]\n",
        "\n",
        "print(f\"English vocab size: {english_vocab_size}\")\n",
        "print(f\"Arabic vocab size: {arabic_vocab_size}\")"
      ],
      "metadata": {
        "colab": {
          "base_uri": "https://localhost:8080/"
        },
        "id": "ZMwhjc9L47pw",
        "outputId": "37e25069-b7eb-42cc-fe18-deee7ebd2b8c"
      },
      "execution_count": 11,
      "outputs": [
        {
          "output_type": "stream",
          "name": "stdout",
          "text": [
            "English vocab size: 3601\n",
            "Arabic vocab size: 8795\n"
          ]
        }
      ]
    },
    {
      "cell_type": "markdown",
      "source": [
        "note : max length was 14 + 2 = 16"
      ],
      "metadata": {
        "id": "W7qErufO6_cV"
      }
    },
    {
      "cell_type": "code",
      "source": [
        "# Pad sequences\n",
        "#eng_tensor = pad_sequences(eng_tensor, maxlen=max_eng_len, padding='post')\n",
        "#arb_tensor = pad_sequences(arb_tensor, maxlen=max_ar_len, padding='post')\n",
        "\n",
        "# Sanity check: print example\n",
        "for i in range(3):\n",
        "    print(f\"English sequence: {eng_tensor[i]}\")\n",
        "    print(f\"Arabic sequence: {arb_tensor[i]}\")\n",
        "    print(\"---\")\n",
        "\n",
        "print(\"Tokenization & padding step done bestie!\")"
      ],
      "metadata": {
        "colab": {
          "base_uri": "https://localhost:8080/"
        },
        "id": "WPXtC_gE7FkS",
        "outputId": "b5b47ab8-9a88-45a6-92bd-121c4834cf54"
      },
      "execution_count": 12,
      "outputs": [
        {
          "output_type": "stream",
          "name": "stdout",
          "text": [
            "English sequence: [10  0  0  0  0  0  0  0  0  0  0]\n",
            "Arabic sequence: [ 2 25  3  0  0  0  0  0  0  0  0  0  0  0  0  0]\n",
            "---\n",
            "English sequence: [361   0   0   0   0   0   0   0   0   0   0]\n",
            "Arabic sequence: [ 2 58  3  0  0  0  0  0  0  0  0  0  0  0  0  0]\n",
            "---\n",
            "English sequence: [10  0  0  0  0  0  0  0  0  0  0]\n",
            "Arabic sequence: [2 6 3 0 0 0 0 0 0 0 0 0 0 0 0 0]\n",
            "---\n",
            "Tokenization & padding step done bestie!\n"
          ]
        }
      ]
    },
    {
      "cell_type": "markdown",
      "source": [
        "## STEP 4 : Prepare training and validation sets\n",
        "\n",
        "---\n",
        "\n",
        "\n",
        "### Data Split - 75% train 25% test/// MADE 90%"
      ],
      "metadata": {
        "id": "DNMKWJOXEDl-"
      }
    },
    {
      "cell_type": "code",
      "source": [
        "from sklearn.model_selection import train_test_split\n",
        "\n",
        "split_ratio = 0.9\n",
        "split_index = int(len(eng_tensor) * split_ratio)\n",
        "\n",
        "english_train, english_val = eng_tensor[:split_index], eng_tensor[split_index:]\n",
        "arabic_train, arabic_val = arb_tensor[:split_index], arb_tensor[split_index:]\n",
        "\n",
        "print(f\"English train shape: {english_train.shape}\")\n",
        "print(f\"English val shape: {english_val.shape}\")\n",
        "print(f\"Arabic train shape: {arabic_train.shape}\")\n",
        "print(f\"Arabic val shape: {arabic_val.shape}\")\n"
      ],
      "metadata": {
        "colab": {
          "base_uri": "https://localhost:8080/"
        },
        "id": "FdrlcCgD7gqR",
        "outputId": "7ca55b69-cfaf-41c2-a07b-0431333e27de"
      },
      "execution_count": 14,
      "outputs": [
        {
          "output_type": "stream",
          "name": "stdout",
          "text": [
            "English train shape: (18000, 11)\n",
            "English val shape: (2000, 11)\n",
            "Arabic train shape: (18000, 16)\n",
            "Arabic val shape: (2000, 16)\n"
          ]
        }
      ]
    },
    {
      "cell_type": "markdown",
      "source": [
        "## Step 5: LSTM Seq2Seq Model\n",
        "\n",
        "\n",
        "---\n",
        "\n"
      ],
      "metadata": {
        "id": "CjNStdp-nu5T"
      }
    },
    {
      "cell_type": "markdown",
      "source": [
        "### Seq2Seq with RNN-based encoder-decoder\n",
        "\n",
        "* Static LR = 0.0005\n",
        "\n",
        "* Add ReduceLROnPlateau with factor=0.5, patience=3\n",
        "\n",
        "* Add EarlyStopping with patience=5\n",
        "\n",
        "* Train for max 50 epochs -- early stop/ just an upper limit  \n",
        "\n",
        "* Batch size 64\n",
        "\n",
        "\n",
        "2ND APPROACH\n",
        "   \n",
        "*   Add Dropout layers (with rates between 0.3–0.5)\n",
        "\n",
        "* Add L2 weight regularization\n",
        "\n",
        "* Use LearningRateScheduler to fine-tune\n",
        "\n",
        "* Reduce batch size from 64 to something like 32\n",
        "\n",
        "3RD AOOROACH\n",
        "\n",
        "* Recurrent dropout & L2 regularization\n",
        "* Reduced LSTM units\n",
        "* Gradient clipping in the optimizer\n",
        "* Learning rate scheduler callback\n",
        "\n",
        "\n",
        "4RTH APROACH\n",
        "* Try reducing LSTM AGAIN\n",
        "\n",
        "* Stronger L2 regularization\n",
        "\n",
        "* Dropout after embeddings\n",
        "\n",
        "* Gaussian noise for extra regularization\n",
        "\n",
        "* Early stopping with more patience"
      ],
      "metadata": {
        "id": "lJesNtyiGUOW"
      }
    },
    {
      "cell_type": "code",
      "source": [
        "embedding_dim = 64\n",
        "lstm_units = 128"
      ],
      "metadata": {
        "id": "UMEJAIhcoPot"
      },
      "execution_count": 15,
      "outputs": []
    },
    {
      "cell_type": "code",
      "source": [
        "import tensorflow as tf\n",
        "from tensorflow.keras import regularizers\n",
        "from tensorflow.keras.layers import Input, LSTM, Dense, Embedding, Dropout, GaussianNoise, LayerNormalization\n",
        "from tensorflow.keras.models import Model\n",
        "from tensorflow.keras.callbacks import EarlyStopping, LearningRateScheduler, ReduceLROnPlateau"
      ],
      "metadata": {
        "id": "fwVEOjAWGSEI"
      },
      "execution_count": 16,
      "outputs": []
    },
    {
      "cell_type": "code",
      "source": [
        "def scheduler(epoch, lr):\n",
        "  if epoch < 8:\n",
        "    return lr\n",
        "  else:\n",
        "    return lr * tf.math.exp(-0.1).numpy() # Convert Tensor to float using .numpy()\n",
        "lr_scheduler = LearningRateScheduler(scheduler)\n",
        "\n",
        "# Custom loss function that ignores padding (zeros)\n",
        "def masked_sparse_categorical_crossentropy(y_true, y_pred):\n",
        "    mask = tf.cast(tf.not_equal(y_true, 0), dtype=tf.float32)\n",
        "    loss = tf.keras.losses.sparse_categorical_crossentropy(y_true, y_pred)\n",
        "    loss *= mask\n",
        "    return tf.reduce_sum(loss) / tf.reduce_sum(mask)"
      ],
      "metadata": {
        "id": "o5F8akDLeKwC"
      },
      "execution_count": 17,
      "outputs": []
    },
    {
      "cell_type": "code",
      "source": [
        "# Encoder\n",
        "\n",
        "encoder_inputs = tf.keras.Input(shape=(None,))\n",
        "encoder_embed = tf.keras.layers.Embedding(english_vocab_size, embedding_dim)(encoder_inputs)\n",
        "encoder_lstm = tf.keras.layers.LSTM(lstm_units, return_state=True)\n",
        "encoder_outputs, state_h, state_c = encoder_lstm(encoder_embed)\n",
        "encoder_states = [state_h, state_c]\n",
        "\n",
        "# Decoder\n",
        "decoder_inputs = tf.keras.Input(shape=(None,))\n",
        "decoder_embed = tf.keras.layers.Embedding(arabic_vocab_size, embedding_dim)(decoder_inputs)\n",
        "decoder_lstm = tf.keras.layers.LSTM(lstm_units, return_sequences=True, return_state=True)\n",
        "decoder_outputs, _, _ = decoder_lstm(decoder_embed, initial_state=encoder_states)\n",
        "decoder_dense = tf.keras.layers.Dense(arabic_vocab_size, activation='softmax')\n",
        "decoder_outputs = decoder_dense(decoder_outputs)\n"
      ],
      "metadata": {
        "id": "HrEuEN1ZNcPD"
      },
      "execution_count": 18,
      "outputs": []
    },
    {
      "cell_type": "code",
      "source": [
        "# Model\n",
        "lstm_model = tf.keras.Model([encoder_inputs, decoder_inputs], decoder_outputs)\n",
        "\n",
        "optimizer = tf.keras.optimizers.Adam(learning_rate=0.001)\n",
        "lstm_model.compile(optimizer=optimizer, loss='sparse_categorical_crossentropy', metrics=['accuracy'])\n",
        "\n",
        "# Callbacks\n",
        "early_stop = tf.keras.callbacks.EarlyStopping(monitor='val_loss', patience=3)\n",
        "reduce_lr = tf.keras.callbacks.ReduceLROnPlateau(monitor='val_loss', factor=0.5, patience=2)"
      ],
      "metadata": {
        "id": "MyOI-_Osf-33"
      },
      "execution_count": 19,
      "outputs": []
    },
    {
      "cell_type": "code",
      "source": [
        "# Prepare data for decoder\n",
        "train_arb_in = arabic_train[:, :-1]\n",
        "train_ar_out = arabic_train[:, 1:]\n",
        "val_ar_in = arabic_val[:, :-1]\n",
        "val_ar_out = arabic_val[:, 1:]"
      ],
      "metadata": {
        "id": "4ELi8bRdICzi"
      },
      "execution_count": 20,
      "outputs": []
    },
    {
      "cell_type": "code",
      "source": [
        "print(f\"English train shape: {english_train.shape}\")\n",
        "print(f\"English val shape: {english_val.shape}\")\n",
        "print(f\"Arabic train input shape: {train_arb_in.shape}\")\n",
        "print(f\"Arabic train output shape: {train_ar_out.shape}\")"
      ],
      "metadata": {
        "colab": {
          "base_uri": "https://localhost:8080/"
        },
        "id": "WND_f-rviPgT",
        "outputId": "2629f395-9ef3-4a29-d57b-77ef2731f889"
      },
      "execution_count": 22,
      "outputs": [
        {
          "output_type": "stream",
          "name": "stdout",
          "text": [
            "English train shape: (18000, 11)\n",
            "English val shape: (2000, 11)\n",
            "Arabic train input shape: (18000, 15)\n",
            "Arabic train output shape: (18000, 15)\n"
          ]
        }
      ]
    },
    {
      "cell_type": "markdown",
      "source": [
        "## STEP 6: Train LSTM Model\n",
        "\n",
        "---\n",
        "\n"
      ],
      "metadata": {
        "id": "av3j70w0qV1y"
      }
    },
    {
      "cell_type": "code",
      "source": [
        "history = lstm_model.fit([english_train, train_arb_in], train_ar_out,\n",
        "                         validation_data=([english_val, val_ar_in], val_ar_out),\n",
        "                         batch_size=64, epochs=20, callbacks=[early_stop, reduce_lr])\n"
      ],
      "metadata": {
        "colab": {
          "base_uri": "https://localhost:8080/"
        },
        "id": "S_t8OMe9IhsA",
        "outputId": "a1615a21-a353-464a-e996-dd36854e2769"
      },
      "execution_count": 23,
      "outputs": [
        {
          "output_type": "stream",
          "name": "stdout",
          "text": [
            "Epoch 1/20\n",
            "\u001b[1m282/282\u001b[0m \u001b[32m━━━━━━━━━━━━━━━━━━━━\u001b[0m\u001b[37m\u001b[0m \u001b[1m15s\u001b[0m 32ms/step - accuracy: 0.7907 - loss: 3.3228 - val_accuracy: 0.6265 - val_loss: 3.2037 - learning_rate: 0.0010\n",
            "Epoch 2/20\n",
            "\u001b[1m282/282\u001b[0m \u001b[32m━━━━━━━━━━━━━━━━━━━━\u001b[0m\u001b[37m\u001b[0m \u001b[1m18s\u001b[0m 30ms/step - accuracy: 0.8672 - loss: 0.9818 - val_accuracy: 0.6265 - val_loss: 3.1292 - learning_rate: 0.0010\n",
            "Epoch 3/20\n",
            "\u001b[1m282/282\u001b[0m \u001b[32m━━━━━━━━━━━━━━━━━━━━\u001b[0m\u001b[37m\u001b[0m \u001b[1m9s\u001b[0m 30ms/step - accuracy: 0.8687 - loss: 0.9078 - val_accuracy: 0.6322 - val_loss: 3.0485 - learning_rate: 0.0010\n",
            "Epoch 4/20\n",
            "\u001b[1m282/282\u001b[0m \u001b[32m━━━━━━━━━━━━━━━━━━━━\u001b[0m\u001b[37m\u001b[0m \u001b[1m8s\u001b[0m 29ms/step - accuracy: 0.8761 - loss: 0.8524 - val_accuracy: 0.6360 - val_loss: 3.0482 - learning_rate: 0.0010\n",
            "Epoch 5/20\n",
            "\u001b[1m282/282\u001b[0m \u001b[32m━━━━━━━━━━━━━━━━━━━━\u001b[0m\u001b[37m\u001b[0m \u001b[1m8s\u001b[0m 30ms/step - accuracy: 0.8828 - loss: 0.8046 - val_accuracy: 0.6387 - val_loss: 3.0153 - learning_rate: 0.0010\n",
            "Epoch 6/20\n",
            "\u001b[1m282/282\u001b[0m \u001b[32m━━━━━━━━━━━━━━━━━━━━\u001b[0m\u001b[37m\u001b[0m \u001b[1m8s\u001b[0m 30ms/step - accuracy: 0.8869 - loss: 0.7677 - val_accuracy: 0.6416 - val_loss: 2.9994 - learning_rate: 0.0010\n",
            "Epoch 7/20\n",
            "\u001b[1m282/282\u001b[0m \u001b[32m━━━━━━━━━━━━━━━━━━━━\u001b[0m\u001b[37m\u001b[0m \u001b[1m10s\u001b[0m 30ms/step - accuracy: 0.8877 - loss: 0.7457 - val_accuracy: 0.6448 - val_loss: 3.0375 - learning_rate: 0.0010\n",
            "Epoch 8/20\n",
            "\u001b[1m282/282\u001b[0m \u001b[32m━━━━━━━━━━━━━━━━━━━━\u001b[0m\u001b[37m\u001b[0m \u001b[1m10s\u001b[0m 30ms/step - accuracy: 0.8891 - loss: 0.7228 - val_accuracy: 0.6467 - val_loss: 3.0171 - learning_rate: 0.0010\n",
            "Epoch 9/20\n",
            "\u001b[1m282/282\u001b[0m \u001b[32m━━━━━━━━━━━━━━━━━━━━\u001b[0m\u001b[37m\u001b[0m \u001b[1m10s\u001b[0m 31ms/step - accuracy: 0.8921 - loss: 0.6829 - val_accuracy: 0.6486 - val_loss: 3.0532 - learning_rate: 5.0000e-04\n"
          ]
        }
      ]
    },
    {
      "cell_type": "code",
      "source": [
        "import matplotlib.pyplot as plt\n",
        "\n",
        "plt.plot(history.history['loss'], label='Train Loss')\n",
        "plt.plot(history.history['val_loss'], label='Validation Loss')\n",
        "plt.xlabel('Epochs')\n",
        "plt.ylabel('Loss')\n",
        "plt.legend()\n",
        "plt.title('Train vs Validation Loss (Seq2Seq LSTM Model)')\n",
        "plt.show()"
      ],
      "metadata": {
        "id": "FizsHme9HWvp",
        "colab": {
          "base_uri": "https://localhost:8080/",
          "height": 472
        },
        "outputId": "e4ab3a97-e29b-4c92-e48c-ffc8b9c5c309"
      },
      "execution_count": 24,
      "outputs": [
        {
          "output_type": "display_data",
          "data": {
            "text/plain": [
              "<Figure size 640x480 with 1 Axes>"
            ],
            "image/png": "[encoded data removed]"
          },
          "metadata": {}
        }
      ]
    },
    {
      "cell_type": "markdown",
      "source": [
        "# Model 2 — Transformer-style Seq2Seq Setup\n",
        "\n",
        "\n",
        "---\n",
        "\n",
        "\n",
        "\n",
        "---\n",
        "\n",
        "\n",
        "\n",
        "\n",
        "## STEP 7: Transformer Model Functions\n",
        "\n",
        "\n",
        "---\n",
        "\n",
        "\n",
        "\n",
        "\n",
        "\n"
      ],
      "metadata": {
        "id": "Z9NMelSivL5d"
      }
    },
    {
      "cell_type": "markdown",
      "source": [
        "Positional Encoding"
      ],
      "metadata": {
        "id": "XpYzO5jj02S2"
      }
    },
    {
      "cell_type": "code",
      "source": [
        "import tensorflow as tf\n",
        "from tensorflow.keras import layers\n",
        "import numpy as np\n",
        "\n",
        "def get_angles(pos, i, d_model):\n",
        "    angle_rates = 1 / np.power(10000, (2 * (i//2)) / np.float32(d_model))\n",
        "    return pos * angle_rates\n",
        "\n",
        "def positional_encoding(position, d_model):\n",
        "    angle_rads = get_angles(np.arange(position)[:, np.newaxis], np.arange(d_model)[np.newaxis, :], d_model)\n",
        "    sines = np.sin(angle_rads[:, 0::2])\n",
        "    cosines = np.cos(angle_rads[:, 1::2])\n",
        "    pos_encoding = np.concatenate([sines, cosines], axis=-1)\n",
        "    pos_encoding = pos_encoding[np.newaxis, ...]\n",
        "    return tf.cast(pos_encoding, dtype=tf.float32)"
      ],
      "metadata": {
        "id": "snIz2Vji0gTI"
      },
      "execution_count": 25,
      "outputs": []
    },
    {
      "cell_type": "code",
      "source": [
        "def transformer_encoder_block(embed_dim, ff_dim, rate=0.1):\n",
        "    inputs = tf.keras.layers.Input(shape=(None, embed_dim))\n",
        "    attention_output = tf.keras.layers.MultiHeadAttention(num_heads=2, key_dim=embed_dim)(inputs, inputs)\n",
        "    attention_output = tf.keras.layers.Dropout(rate)(attention_output)\n",
        "    attention_output = tf.keras.layers.LayerNormalization(epsilon=1e-6)(inputs + attention_output)\n",
        "    ffn_output = tf.keras.Sequential([\n",
        "        tf.keras.layers.Dense(ff_dim, activation='relu'),\n",
        "        tf.keras.layers.Dense(embed_dim),\n",
        "    ])(attention_output)\n",
        "    ffn_output = tf.keras.layers.Dropout(rate)(ffn_output)\n",
        "    encoder_output = tf.keras.layers.LayerNormalization(epsilon=1e-6)(attention_output + ffn_output)\n",
        "    return tf.keras.Model(inputs=inputs, outputs=encoder_output)"
      ],
      "metadata": {
        "id": "_yi-XU7U05to"
      },
      "execution_count": 26,
      "outputs": []
    },
    {
      "cell_type": "code",
      "source": [
        "def transformer_decoder_block(embed_dim, ff_dim, rate=0.1):\n",
        "    enc_outputs = tf.keras.layers.Input(shape=(None, embed_dim))\n",
        "    inputs = tf.keras.layers.Input(shape=(None, embed_dim))\n",
        "\n",
        "    # Removed MultiHeadAttention layers\n",
        "    # Using simple Dense layers instead of attention\n",
        "\n",
        "    dense1 = tf.keras.layers.Dense(embed_dim)(inputs)\n",
        "    dense1 = tf.keras.layers.LayerNormalization(epsilon=1e-6)(dense1 + inputs)\n",
        "\n",
        "    dense2 = tf.keras.layers.Dense(embed_dim)(dense1)\n",
        "    dense2 = tf.keras.layers.Dropout(rate)(dense2)\n",
        "    dense2 = tf.keras.layers.LayerNormalization(epsilon=1e-6)(dense2 + dense1)\n",
        "\n",
        "    ffn_output = tf.keras.Sequential([\n",
        "        tf.keras.layers.Dense(ff_dim, activation='relu'),\n",
        "        tf.keras.layers.Dense(embed_dim),\n",
        "    ])(dense2)\n",
        "\n",
        "    ffn_output = tf.keras.layers.Dropout(rate)(ffn_output)\n",
        "    decoder_output = tf.keras.layers.LayerNormalization(epsilon=1e-6)(dense2 + ffn_output)\n",
        "\n",
        "    return tf.keras.Model(inputs=[inputs, enc_outputs], outputs=decoder_output)"
      ],
      "metadata": {
        "id": "Y9KnPCfk09Zg"
      },
      "execution_count": 27,
      "outputs": []
    },
    {
      "cell_type": "markdown",
      "source": [
        "## STEP8: Build Transformer Model\n",
        "\n",
        "---\n",
        "\n"
      ],
      "metadata": {
        "id": "VWnTieKxs4iR"
      }
    },
    {
      "cell_type": "code",
      "source": [
        "def build_transformer_seq2seq(english_vocab_size, arabic_vocab_size, embed_dim, ff_dim):\n",
        "    encoder_inputs = tf.keras.layers.Input(shape=(None,))\n",
        "    encoder_embedding_layer = tf.keras.layers.Embedding(english_vocab_size, embed_dim)\n",
        "    encoder_embed = encoder_embedding_layer(encoder_inputs) + positional_encoding(max_eng_len, embed_dim)\n",
        "    encoder_output = transformer_encoder_block(embed_dim, ff_dim)(encoder_embed)\n",
        "\n",
        "    decoder_inputs = tf.keras.layers.Input(shape=(None,))\n",
        "    decoder_embedding_layer = tf.keras.layers.Embedding(arabic_vocab_size, embed_dim)\n",
        "\n",
        "    # Use max_ar_len -1  to match the decoder input shape\n",
        "    decoder_embed = decoder_embedding_layer(decoder_inputs) + positional_encoding(max_ar_len -1, embed_dim)\n",
        "\n",
        "    # Corrected line to provide both inputs to the decoder block\n",
        "    decoder_output = transformer_decoder_block(embed_dim, ff_dim)([decoder_embed, encoder_output])\n",
        "\n",
        "    final_output = tf.keras.layers.Dense(arabic_vocab_size, activation='softmax')(decoder_output)\n",
        "    model = tf.keras.Model([encoder_inputs, decoder_inputs], final_output)\n",
        "    return model"
      ],
      "metadata": {
        "id": "JdhVG4Ys1AHM"
      },
      "execution_count": 34,
      "outputs": []
    },
    {
      "cell_type": "markdown",
      "source": [
        "##  Training the Transformer Seq2Seq Model\n",
        "\n",
        "* Optimizer = Adam\n",
        "* Loss = Sparse categorical crossentropy (matching integer-encoded targets)\n",
        "* Trimmed decoder input + shifted decoder target setup\n",
        "* Plots for visualizing training"
      ],
      "metadata": {
        "id": "_IZwH0pf1KTI"
      }
    },
    {
      "cell_type": "code",
      "source": [
        "transformer_model = build_transformer_seq2seq(english_vocab_size, arabic_vocab_size, 64, 128)\n",
        "transformer_model.compile(optimizer='adam', loss='sparse_categorical_crossentropy', metrics=['accuracy'])\n",
        "\n",
        "transformer_model.summary()"
      ],
      "metadata": {
        "colab": {
          "base_uri": "https://localhost:8080/",
          "height": 465
        },
        "id": "x1OmvOPA1FLb",
        "outputId": "91f50121-2b51-4768-aa66-4a3449bb82b0"
      },
      "execution_count": 35,
      "outputs": [
        {
          "output_type": "display_data",
          "data": {
            "text/plain": [
              "\u001b[1mModel: \"functional_10\"\u001b[0m\n"
            ],
            "text/html": [
              "<pre style=\"white-space:pre;overflow-x:auto;line-height:normal;font-family:Menlo,'DejaVu Sans Mono',consolas,'Courier New',monospace\"><span style=\"font-weight: bold\">Model: \"functional_10\"</span>\n",
              "</pre>\n"
            ]
          },
          "metadata": {}
        },
        {
          "output_type": "display_data",
          "data": {
            "text/plain": [
              "┏━━━━━━━━━━━━━━━━━━━━━━━━━━━┳━━━━━━━━━━━━━━━━━━━━━━━━┳━━━━━━━━━━━━━━━━┳━━━━━━━━━━━━━━━━━━━━━━━━┓\n",
              "┃\u001b[1m \u001b[0m\u001b[1mLayer (type)             \u001b[0m\u001b[1m \u001b[0m┃\u001b[1m \u001b[0m\u001b[1mOutput Shape          \u001b[0m\u001b[1m \u001b[0m┃\u001b[1m \u001b[0m\u001b[1m       Param #\u001b[0m\u001b[1m \u001b[0m┃\u001b[1m \u001b[0m\u001b[1mConnected to          \u001b[0m\u001b[1m \u001b[0m┃\n",
              "┡━━━━━━━━━━━━━━━━━━━━━━━━━━━╇━━━━━━━━━━━━━━━━━━━━━━━━╇━━━━━━━━━━━━━━━━╇━━━━━━━━━━━━━━━━━━━━━━━━┩\n",
              "│ input_layer_9             │ (\u001b[38;5;45mNone\u001b[0m, \u001b[38;5;45mNone\u001b[0m)           │              \u001b[38;5;34m0\u001b[0m │ -                      │\n",
              "│ (\u001b[38;5;33mInputLayer\u001b[0m)              │                        │                │                        │\n",
              "├───────────────────────────┼────────────────────────┼────────────────┼────────────────────────┤\n",
              "│ input_layer_12            │ (\u001b[38;5;45mNone\u001b[0m, \u001b[38;5;45mNone\u001b[0m)           │              \u001b[38;5;34m0\u001b[0m │ -                      │\n",
              "│ (\u001b[38;5;33mInputLayer\u001b[0m)              │                        │                │                        │\n",
              "├───────────────────────────┼────────────────────────┼────────────────┼────────────────────────┤\n",
              "│ embedding_4 (\u001b[38;5;33mEmbedding\u001b[0m)   │ (\u001b[38;5;45mNone\u001b[0m, \u001b[38;5;45mNone\u001b[0m, \u001b[38;5;34m64\u001b[0m)       │        \u001b[38;5;34m230,464\u001b[0m │ input_layer_9[\u001b[38;5;34m0\u001b[0m][\u001b[38;5;34m0\u001b[0m]    │\n",
              "├───────────────────────────┼────────────────────────┼────────────────┼────────────────────────┤\n",
              "│ embedding_5 (\u001b[38;5;33mEmbedding\u001b[0m)   │ (\u001b[38;5;45mNone\u001b[0m, \u001b[38;5;45mNone\u001b[0m, \u001b[38;5;34m64\u001b[0m)       │        \u001b[38;5;34m562,880\u001b[0m │ input_layer_12[\u001b[38;5;34m0\u001b[0m][\u001b[38;5;34m0\u001b[0m]   │\n",
              "├───────────────────────────┼────────────────────────┼────────────────┼────────────────────────┤\n",
              "│ add_7 (\u001b[38;5;33mAdd\u001b[0m)               │ (\u001b[38;5;45mNone\u001b[0m, \u001b[38;5;34m11\u001b[0m, \u001b[38;5;34m64\u001b[0m)         │              \u001b[38;5;34m0\u001b[0m │ embedding_4[\u001b[38;5;34m0\u001b[0m][\u001b[38;5;34m0\u001b[0m]      │\n",
              "├───────────────────────────┼────────────────────────┼────────────────┼────────────────────────┤\n",
              "│ add_10 (\u001b[38;5;33mAdd\u001b[0m)              │ (\u001b[38;5;45mNone\u001b[0m, \u001b[38;5;34m15\u001b[0m, \u001b[38;5;34m64\u001b[0m)         │              \u001b[38;5;34m0\u001b[0m │ embedding_5[\u001b[38;5;34m0\u001b[0m][\u001b[38;5;34m0\u001b[0m]      │\n",
              "├───────────────────────────┼────────────────────────┼────────────────┼────────────────────────┤\n",
              "│ functional_7 (\u001b[38;5;33mFunctional\u001b[0m) │ (\u001b[38;5;45mNone\u001b[0m, \u001b[38;5;34m11\u001b[0m, \u001b[38;5;34m64\u001b[0m)         │         \u001b[38;5;34m50,048\u001b[0m │ add_7[\u001b[38;5;34m0\u001b[0m][\u001b[38;5;34m0\u001b[0m]            │\n",
              "├───────────────────────────┼────────────────────────┼────────────────┼────────────────────────┤\n",
              "│ functional_9 (\u001b[38;5;33mFunctional\u001b[0m) │ (\u001b[38;5;45mNone\u001b[0m, \u001b[38;5;34m15\u001b[0m, \u001b[38;5;34m64\u001b[0m)         │         \u001b[38;5;34m25,280\u001b[0m │ add_10[\u001b[38;5;34m0\u001b[0m][\u001b[38;5;34m0\u001b[0m],          │\n",
              "│                           │                        │                │ functional_7[\u001b[38;5;34m0\u001b[0m][\u001b[38;5;34m0\u001b[0m]     │\n",
              "├───────────────────────────┼────────────────────────┼────────────────┼────────────────────────┤\n",
              "│ dense_14 (\u001b[38;5;33mDense\u001b[0m)          │ (\u001b[38;5;45mNone\u001b[0m, \u001b[38;5;34m15\u001b[0m, \u001b[38;5;34m8795\u001b[0m)       │        \u001b[38;5;34m571,675\u001b[0m │ functional_9[\u001b[38;5;34m0\u001b[0m][\u001b[38;5;34m0\u001b[0m]     │\n",
              "└───────────────────────────┴────────────────────────┴────────────────┴────────────────────────┘\n"
            ],
            "text/html": [
              "<pre style=\"white-space:pre;overflow-x:auto;line-height:normal;font-family:Menlo,'DejaVu Sans Mono',consolas,'Courier New',monospace\">┏━━━━━━━━━━━━━━━━━━━━━━━━━━━┳━━━━━━━━━━━━━━━━━━━━━━━━┳━━━━━━━━━━━━━━━━┳━━━━━━━━━━━━━━━━━━━━━━━━┓\n",
              "┃<span style=\"font-weight: bold\"> Layer (type)              </span>┃<span style=\"font-weight: bold\"> Output Shape           </span>┃<span style=\"font-weight: bold\">        Param # </span>┃<span style=\"font-weight: bold\"> Connected to           </span>┃\n",
              "┡━━━━━━━━━━━━━━━━━━━━━━━━━━━╇━━━━━━━━━━━━━━━━━━━━━━━━╇━━━━━━━━━━━━━━━━╇━━━━━━━━━━━━━━━━━━━━━━━━┩\n",
              "│ input_layer_9             │ (<span style=\"color: #00d7ff; text-decoration-color: #00d7ff\">None</span>, <span style=\"color: #00d7ff; text-decoration-color: #00d7ff\">None</span>)           │              <span style=\"color: #00af00; text-decoration-color: #00af00\">0</span> │ -                      │\n",
              "│ (<span style=\"color: #0087ff; text-decoration-color: #0087ff\">InputLayer</span>)              │                        │                │                        │\n",
              "├───────────────────────────┼────────────────────────┼────────────────┼────────────────────────┤\n",
              "│ input_layer_12            │ (<span style=\"color: #00d7ff; text-decoration-color: #00d7ff\">None</span>, <span style=\"color: #00d7ff; text-decoration-color: #00d7ff\">None</span>)           │              <span style=\"color: #00af00; text-decoration-color: #00af00\">0</span> │ -                      │\n",
              "│ (<span style=\"color: #0087ff; text-decoration-color: #0087ff\">InputLayer</span>)              │                        │                │                        │\n",
              "├───────────────────────────┼────────────────────────┼────────────────┼────────────────────────┤\n",
              "│ embedding_4 (<span style=\"color: #0087ff; text-decoration-color: #0087ff\">Embedding</span>)   │ (<span style=\"color: #00d7ff; text-decoration-color: #00d7ff\">None</span>, <span style=\"color: #00d7ff; text-decoration-color: #00d7ff\">None</span>, <span style=\"color: #00af00; text-decoration-color: #00af00\">64</span>)       │        <span style=\"color: #00af00; text-decoration-color: #00af00\">230,464</span> │ input_layer_9[<span style=\"color: #00af00; text-decoration-color: #00af00\">0</span>][<span style=\"color: #00af00; text-decoration-color: #00af00\">0</span>]    │\n",
              "├───────────────────────────┼────────────────────────┼────────────────┼────────────────────────┤\n",
              "│ embedding_5 (<span style=\"color: #0087ff; text-decoration-color: #0087ff\">Embedding</span>)   │ (<span style=\"color: #00d7ff; text-decoration-color: #00d7ff\">None</span>, <span style=\"color: #00d7ff; text-decoration-color: #00d7ff\">None</span>, <span style=\"color: #00af00; text-decoration-color: #00af00\">64</span>)       │        <span style=\"color: #00af00; text-decoration-color: #00af00\">562,880</span> │ input_layer_12[<span style=\"color: #00af00; text-decoration-color: #00af00\">0</span>][<span style=\"color: #00af00; text-decoration-color: #00af00\">0</span>]   │\n",
              "├───────────────────────────┼────────────────────────┼────────────────┼────────────────────────┤\n",
              "│ add_7 (<span style=\"color: #0087ff; text-decoration-color: #0087ff\">Add</span>)               │ (<span style=\"color: #00d7ff; text-decoration-color: #00d7ff\">None</span>, <span style=\"color: #00af00; text-decoration-color: #00af00\">11</span>, <span style=\"color: #00af00; text-decoration-color: #00af00\">64</span>)         │              <span style=\"color: #00af00; text-decoration-color: #00af00\">0</span> │ embedding_4[<span style=\"color: #00af00; text-decoration-color: #00af00\">0</span>][<span style=\"color: #00af00; text-decoration-color: #00af00\">0</span>]      │\n",
              "├───────────────────────────┼────────────────────────┼────────────────┼────────────────────────┤\n",
              "│ add_10 (<span style=\"color: #0087ff; text-decoration-color: #0087ff\">Add</span>)              │ (<span style=\"color: #00d7ff; text-decoration-color: #00d7ff\">None</span>, <span style=\"color: #00af00; text-decoration-color: #00af00\">15</span>, <span style=\"color: #00af00; text-decoration-color: #00af00\">64</span>)         │              <span style=\"color: #00af00; text-decoration-color: #00af00\">0</span> │ embedding_5[<span style=\"color: #00af00; text-decoration-color: #00af00\">0</span>][<span style=\"color: #00af00; text-decoration-color: #00af00\">0</span>]      │\n",
              "├───────────────────────────┼────────────────────────┼────────────────┼────────────────────────┤\n",
              "│ functional_7 (<span style=\"color: #0087ff; text-decoration-color: #0087ff\">Functional</span>) │ (<span style=\"color: #00d7ff; text-decoration-color: #00d7ff\">None</span>, <span style=\"color: #00af00; text-decoration-color: #00af00\">11</span>, <span style=\"color: #00af00; text-decoration-color: #00af00\">64</span>)         │         <span style=\"color: #00af00; text-decoration-color: #00af00\">50,048</span> │ add_7[<span style=\"color: #00af00; text-decoration-color: #00af00\">0</span>][<span style=\"color: #00af00; text-decoration-color: #00af00\">0</span>]            │\n",
              "├───────────────────────────┼────────────────────────┼────────────────┼────────────────────────┤\n",
              "│ functional_9 (<span style=\"color: #0087ff; text-decoration-color: #0087ff\">Functional</span>) │ (<span style=\"color: #00d7ff; text-decoration-color: #00d7ff\">None</span>, <span style=\"color: #00af00; text-decoration-color: #00af00\">15</span>, <span style=\"color: #00af00; text-decoration-color: #00af00\">64</span>)         │         <span style=\"color: #00af00; text-decoration-color: #00af00\">25,280</span> │ add_10[<span style=\"color: #00af00; text-decoration-color: #00af00\">0</span>][<span style=\"color: #00af00; text-decoration-color: #00af00\">0</span>],          │\n",
              "│                           │                        │                │ functional_7[<span style=\"color: #00af00; text-decoration-color: #00af00\">0</span>][<span style=\"color: #00af00; text-decoration-color: #00af00\">0</span>]     │\n",
              "├───────────────────────────┼────────────────────────┼────────────────┼────────────────────────┤\n",
              "│ dense_14 (<span style=\"color: #0087ff; text-decoration-color: #0087ff\">Dense</span>)          │ (<span style=\"color: #00d7ff; text-decoration-color: #00d7ff\">None</span>, <span style=\"color: #00af00; text-decoration-color: #00af00\">15</span>, <span style=\"color: #00af00; text-decoration-color: #00af00\">8795</span>)       │        <span style=\"color: #00af00; text-decoration-color: #00af00\">571,675</span> │ functional_9[<span style=\"color: #00af00; text-decoration-color: #00af00\">0</span>][<span style=\"color: #00af00; text-decoration-color: #00af00\">0</span>]     │\n",
              "└───────────────────────────┴────────────────────────┴────────────────┴────────────────────────┘\n",
              "</pre>\n"
            ]
          },
          "metadata": {}
        },
        {
          "output_type": "display_data",
          "data": {
            "text/plain": [
              "\u001b[1m Total params: \u001b[0m\u001b[38;5;34m1,440,347\u001b[0m (5.49 MB)\n"
            ],
            "text/html": [
              "<pre style=\"white-space:pre;overflow-x:auto;line-height:normal;font-family:Menlo,'DejaVu Sans Mono',consolas,'Courier New',monospace\"><span style=\"font-weight: bold\"> Total params: </span><span style=\"color: #00af00; text-decoration-color: #00af00\">1,440,347</span> (5.49 MB)\n",
              "</pre>\n"
            ]
          },
          "metadata": {}
        },
        {
          "output_type": "display_data",
          "data": {
            "text/plain": [
              "\u001b[1m Trainable params: \u001b[0m\u001b[38;5;34m1,440,347\u001b[0m (5.49 MB)\n"
            ],
            "text/html": [
              "<pre style=\"white-space:pre;overflow-x:auto;line-height:normal;font-family:Menlo,'DejaVu Sans Mono',consolas,'Courier New',monospace\"><span style=\"font-weight: bold\"> Trainable params: </span><span style=\"color: #00af00; text-decoration-color: #00af00\">1,440,347</span> (5.49 MB)\n",
              "</pre>\n"
            ]
          },
          "metadata": {}
        },
        {
          "output_type": "display_data",
          "data": {
            "text/plain": [
              "\u001b[1m Non-trainable params: \u001b[0m\u001b[38;5;34m0\u001b[0m (0.00 B)\n"
            ],
            "text/html": [
              "<pre style=\"white-space:pre;overflow-x:auto;line-height:normal;font-family:Menlo,'DejaVu Sans Mono',consolas,'Courier New',monospace\"><span style=\"font-weight: bold\"> Non-trainable params: </span><span style=\"color: #00af00; text-decoration-color: #00af00\">0</span> (0.00 B)\n",
              "</pre>\n"
            ]
          },
          "metadata": {}
        }
      ]
    },
    {
      "cell_type": "markdown",
      "source": [
        "## STEP 9:  Train Transformer Model"
      ],
      "metadata": {
        "id": "U9bVd3a9thAp"
      }
    },
    {
      "cell_type": "code",
      "source": [
        "history_tf = transformer_model.fit([english_train, train_arb_in], train_ar_out,\n",
        "                                   validation_data=([english_val, val_ar_in], val_ar_out),\n",
        "                                   batch_size=64, epochs=20, callbacks=[early_stop, reduce_lr])"
      ],
      "metadata": {
        "colab": {
          "base_uri": "https://localhost:8080/"
        },
        "id": "vjL_V2Im1p9n",
        "outputId": "8dc60e24-d044-4737-eb5b-f771fef2cfec"
      },
      "execution_count": 36,
      "outputs": [
        {
          "output_type": "stream",
          "name": "stdout",
          "text": [
            "Epoch 1/20\n"
          ]
        },
        {
          "output_type": "stream",
          "name": "stderr",
          "text": [
            "/usr/local/lib/python3.11/dist-packages/keras/src/optimizers/base_optimizer.py:774: UserWarning: Gradients do not exist for variables ['embedding_4/embeddings', 'multi_head_attention_1/query/kernel', 'multi_head_attention_1/query/bias', 'multi_head_attention_1/key/kernel', 'multi_head_attention_1/key/bias', 'multi_head_attention_1/value/kernel', 'multi_head_attention_1/value/bias', 'multi_head_attention_1/attention_output/kernel', 'multi_head_attention_1/attention_output/bias', 'layer_normalization_5/gamma', 'layer_normalization_5/beta', 'sequential_2/dense_8/kernel', 'sequential_2/dense_8/bias', 'sequential_2/dense_9/kernel', 'sequential_2/dense_9/bias', 'layer_normalization_6/gamma', 'layer_normalization_6/beta'] when minimizing the loss. If using `model.compile()`, did you forget to provide a `loss` argument?\n",
            "  warnings.warn(\n"
          ]
        },
        {
          "output_type": "stream",
          "name": "stdout",
          "text": [
            "\u001b[1m282/282\u001b[0m \u001b[32m━━━━━━━━━━━━━━━━━━━━\u001b[0m\u001b[37m\u001b[0m \u001b[1m15s\u001b[0m 27ms/step - accuracy: 0.7743 - loss: 3.9480 - val_accuracy: 0.6267 - val_loss: 3.0935 - learning_rate: 0.0010\n",
            "Epoch 2/20\n",
            "\u001b[1m282/282\u001b[0m \u001b[32m━━━━━━━━━━━━━━━━━━━━\u001b[0m\u001b[37m\u001b[0m \u001b[1m2s\u001b[0m 8ms/step - accuracy: 0.8655 - loss: 0.9260 - val_accuracy: 0.6306 - val_loss: 3.1033 - learning_rate: 0.0010\n",
            "Epoch 3/20\n",
            "\u001b[1m282/282\u001b[0m \u001b[32m━━━━━━━━━━━━━━━━━━━━\u001b[0m\u001b[37m\u001b[0m \u001b[1m2s\u001b[0m 7ms/step - accuracy: 0.8679 - loss: 0.8744 - val_accuracy: 0.6362 - val_loss: 3.1204 - learning_rate: 0.0010\n",
            "Epoch 4/20\n",
            "\u001b[1m282/282\u001b[0m \u001b[32m━━━━━━━━━━━━━━━━━━━━\u001b[0m\u001b[37m\u001b[0m \u001b[1m3s\u001b[0m 9ms/step - accuracy: 0.8711 - loss: 0.8172 - val_accuracy: 0.6411 - val_loss: 3.1026 - learning_rate: 5.0000e-04\n"
          ]
        }
      ]
    },
    {
      "cell_type": "code",
      "source": [
        "import matplotlib.pyplot as plt\n",
        "\n",
        "plt.figure(figsize=(8, 5))\n",
        "plt.plot(history.history['loss'], label='Training Loss')\n",
        "plt.plot(history.history['val_loss'], label='Validation Loss')\n",
        "plt.title('Transformer Model Training Loss')\n",
        "plt.xlabel('Epoch')\n",
        "plt.ylabel('Loss')\n",
        "plt.legend()\n",
        "plt.show()"
      ],
      "metadata": {
        "colab": {
          "base_uri": "https://localhost:8080/",
          "height": 487
        },
        "id": "rhUrxmmm2b1G",
        "outputId": "f57d1918-2a5b-4e85-e411-f2a41fbcc950"
      },
      "execution_count": 38,
      "outputs": [
        {
          "output_type": "display_data",
          "data": {
            "text/plain": [
              "<Figure size 800x500 with 1 Axes>"
            ],
            "image/png": "[encoded data removed]"
          },
          "metadata": {}
        }
      ]
    },
    {
      "cell_type": "markdown",
      "source": [
        "## FINAL: Inference Testing on Unseen Data\n",
        "\n",
        "---\n",
        "\n",
        "\n",
        "\n",
        "---\n",
        "\n"
      ],
      "metadata": {
        "id": "jNaaJ7IN7AzP"
      }
    },
    {
      "cell_type": "code",
      "source": [
        "def predict_translation(input_sentence):\n",
        "    input_seq = eng_tokenizer.texts_to_sequences([input_sentence])\n",
        "    input_seq = pad_sequences(input_seq, maxlen=max_eng_len, padding='post')\n",
        "\n",
        "    # Encoder part\n",
        "    encoder_model = Model(encoder_inputs, encoder_states)\n",
        "    states_value = encoder_model.predict(input_seq)\n",
        "\n",
        "    # Decoder part\n",
        "    target_seq = np.zeros((1, 1))\n",
        "    target_seq[0, 0] = arb_tokenizer.word_index['<start>']\n",
        "    stop_condition = False\n",
        "    decoded_sentence = ''\n",
        "\n",
        "    while not stop_condition:\n",
        "        # Pass the decoder input and initial states correctly\n",
        "        # Reshape target_seq to have 3 dimensions\n",
        "        target_seq = target_seq.reshape((1, 1, 1))\n",
        "        output_tokens, h, c = decoder_lstm(target_seq, initial_state=states_value)\n",
        "        output_tokens = decoder_dense(output_tokens)\n",
        "        sampled_token_index = np.argmax(output_tokens[0, -1, :])\n",
        "        sampled_word = arb_tokenizer.index_word.get(sampled_token_index)\n",
        "\n",
        "        if sampled_word == '<end>' or len(decoded_sentence.split()) > max_ar_len - 1:\n",
        "            stop_condition = True\n",
        "        else:\n",
        "            decoded_sentence += sampled_word + ' '\n",
        "\n",
        "        # Reshape back to (1, 1) for the next iteration\n",
        "        target_seq = np.zeros((1, 1))\n",
        "        target_seq[0, 0] = sampled_token_index\n",
        "        # Update the states_value for the next iteration\n",
        "        states_value = [h, c]\n",
        "\n",
        "    print(f\"Input: {input_sentence}\")\n",
        "    print(f\"Translation: {decoded_sentence}\")"
      ],
      "metadata": {
        "id": "hZXnBhmBuFXb"
      },
      "execution_count": 43,
      "outputs": []
    },
    {
      "cell_type": "code",
      "source": [
        "test_sentences = [\n",
        "    \"How are you today?\",\n",
        "    \"I love learning new things.\",\n",
        "    \"What time is the meeting?\",\n",
        "    \"This project was challenging and fun!\",\n",
        "    \"You are amazing.\"\n",
        "]\n",
        "\n",
        "for sent in test_sentences:\n",
        "    predict_translation(sent)\n"
      ],
      "metadata": {
        "colab": {
          "base_uri": "https://localhost:8080/"
        },
        "id": "pZF962237ZJh",
        "outputId": "25d200db-48f6-4398-e8a9-c6c4402a8528"
      },
      "execution_count": 44,
      "outputs": [
        {
          "output_type": "stream",
          "name": "stdout",
          "text": [
            "\u001b[1m1/1\u001b[0m \u001b[32m━━━━━━━━━━━━━━━━━━━━\u001b[0m\u001b[37m\u001b[0m \u001b[1m0s\u001b[0m 172ms/step\n",
            "Input: How are you today?\n",
            "Translation: من من من من أن أن أن أن أن أن أن أن أن أن أن أن \n",
            "\u001b[1m1/1\u001b[0m \u001b[32m━━━━━━━━━━━━━━━━━━━━\u001b[0m\u001b[37m\u001b[0m \u001b[1m0s\u001b[0m 159ms/step\n",
            "Input: I love learning new things.\n",
            "Translation: من من من من أن أن أن أن أن أن أن أن أن أن أن أن \n"
          ]
        },
        {
          "output_type": "stream",
          "name": "stderr",
          "text": [
            "WARNING:tensorflow:5 out of the last 5 calls to <function TensorFlowTrainer.make_predict_function.<locals>.one_step_on_data_distributed at 0x7a326ff55da0> triggered tf.function retracing. Tracing is expensive and the excessive number of tracings could be due to (1) creating @tf.function repeatedly in a loop, (2) passing tensors with different shapes, (3) passing Python objects instead of tensors. For (1), please define your @tf.function outside of the loop. For (2), @tf.function has reduce_retracing=True option that can avoid unnecessary retracing. For (3), please refer to https://www.tensorflow.org/guide/function#controlling_retracing and https://www.tensorflow.org/api_docs/python/tf/function for  more details.\n"
          ]
        },
        {
          "output_type": "stream",
          "name": "stdout",
          "text": [
            "\u001b[1m1/1\u001b[0m \u001b[32m━━━━━━━━━━━━━━━━━━━━\u001b[0m\u001b[37m\u001b[0m \u001b[1m0s\u001b[0m 167ms/step\n",
            "Input: What time is the meeting?\n",
            "Translation: من من من من أن أن أن أن أن أن أن أن أن أن أن أن \n"
          ]
        },
        {
          "output_type": "stream",
          "name": "stderr",
          "text": [
            "WARNING:tensorflow:6 out of the last 6 calls to <function TensorFlowTrainer.make_predict_function.<locals>.one_step_on_data_distributed at 0x7a321cb787c0> triggered tf.function retracing. Tracing is expensive and the excessive number of tracings could be due to (1) creating @tf.function repeatedly in a loop, (2) passing tensors with different shapes, (3) passing Python objects instead of tensors. For (1), please define your @tf.function outside of the loop. For (2), @tf.function has reduce_retracing=True option that can avoid unnecessary retracing. For (3), please refer to https://www.tensorflow.org/guide/function#controlling_retracing and https://www.tensorflow.org/api_docs/python/tf/function for  more details.\n"
          ]
        },
        {
          "output_type": "stream",
          "name": "stdout",
          "text": [
            "\u001b[1m1/1\u001b[0m \u001b[32m━━━━━━━━━━━━━━━━━━━━\u001b[0m\u001b[37m\u001b[0m \u001b[1m0s\u001b[0m 174ms/step\n",
            "Input: This project was challenging and fun!\n",
            "Translation: من من من أن أن أن أن أن أن أن أن أن أن أن أن أن \n",
            "\u001b[1m1/1\u001b[0m \u001b[32m━━━━━━━━━━━━━━━━━━━━\u001b[0m\u001b[37m\u001b[0m \u001b[1m0s\u001b[0m 194ms/step\n",
            "Input: You are amazing.\n",
            "Translation: من من من من أن أن أن أن أن أن أن أن أن أن أن أن \n"
          ]
        }
      ]
    }
  ]
}
